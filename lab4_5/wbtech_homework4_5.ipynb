{
  "cells": [
    {
      "cell_type": "markdown",
      "source": [
        "# Task 4"
      ],
      "metadata": {
        "id": "5GoxKIjHRXOH"
      }
    },
    {
      "cell_type": "markdown",
      "metadata": {
        "id": "KaJTzzN0NAub"
      },
      "source": [
        "Для экспериментов с бейзлайнами будем использовать библиотеку cornac, т к там есть готовые функции для метрик, моделей, обучения и теста."
      ]
    },
    {
      "cell_type": "code",
      "execution_count": 1,
      "metadata": {
        "id": "yR__8p118zKy"
      },
      "outputs": [],
      "source": [
        "!pip install -q cornac"
      ]
    },
    {
      "cell_type": "code",
      "execution_count": 2,
      "metadata": {
        "id": "n9kpmHG41dNK"
      },
      "outputs": [],
      "source": [
        "import pandas as pd\n",
        "import numpy as np\n",
        "from scipy import sparse\n",
        "from tqdm import tqdm\n",
        "import matplotlib.pyplot as plt\n",
        "import seaborn as sns\n",
        "import cornac as cn\n",
        "from cornac.data.dataset import Dataset\n",
        "from cornac.experiment.experiment import Experiment\n",
        "from sklearn.preprocessing import MinMaxScaler\n",
        "\n",
        "import random\n",
        "import datetime"
      ]
    },
    {
      "cell_type": "markdown",
      "metadata": {
        "id": "Nf1ywT47NbMj"
      },
      "source": [
        "Метрики  \n",
        "Для персонализированных рекомендаций товаров в интернет-магазине наиболее подходящими метриками являются те, которые отражают долю релевантных товаров среди рекомендованных и их ранжирование по релевантности. Такими метриками являются:  \n",
        "\n",
        "\n",
        "*   Recall@k - доля релевантных элементов, которые были рекомендованы в топ-k рекомендациях из всех релевантных элементов для пользователя. Высокий Recall важен, чтобы не пропустить максимум подходящих рекомендаций.\n",
        "*   Precision@k - доля релевантных элементов среди топ-k рекомендаций. Высокий Precision означает, что большинство рекомендованных элементов действительно интересны пользователю.\n",
        "*   NDCG - метрика, которая учитывает как релевантность рекомендованных элементов, так и их позицию в списке рекомендаций. Более релевантные элементы на верхних позициях вносят больший вклад в значение NDCG. Отражает юзабилити рекомендаций.\n",
        "*   HitRatio - доля пользователей, для которых хотя бы одна рекомендация была релевантной. Высокий Hit Ratio означает, что система полезна для большинства пользователей.\n",
        "*   MAP - усредненная по всем пользователям средняя точность рекомендаций. Сочетает оценку точности для разных значений k (средняя по всем возможным k).\n",
        "\n",
        "Эти метрики позволяют всесторонне оценить качество рекомендательной системы. Импортируем их из библиотеки, зададим k = 10"
      ]
    },
    {
      "cell_type": "code",
      "execution_count": 3,
      "metadata": {
        "id": "3u3bJQLt89sO"
      },
      "outputs": [],
      "source": [
        "K = 20\n",
        "\n",
        "precision_k = cn.metrics.Precision(k=K)\n",
        "recall_k = cn.metrics.Recall(k=K)\n",
        "ndcg_k = cn.metrics.NDCG(k=K)\n",
        "hr_k = cn.metrics.HitRatio(k=K)\n",
        "map_k = cn.metrics.MAP()\n",
        "\n",
        "metrics = [\n",
        "    precision_k,\n",
        "    recall_k,\n",
        "    ndcg_k,\n",
        "    hr_k,\n",
        "    map_k\n",
        "]"
      ]
    },
    {
      "cell_type": "markdown",
      "metadata": {
        "id": "5JnruowuNcyG"
      },
      "source": [
        "Импортируем несколько моделей, на которых будем экспериментировать"
      ]
    },
    {
      "cell_type": "code",
      "execution_count": 4,
      "metadata": {
        "id": "saPtQuEXQNDD"
      },
      "outputs": [],
      "source": [
        "from cornac.models.mf.recom_mf import MF\n",
        "from cornac.models.svd.recom_svd import SVD\n",
        "from cornac.models.pmf.recom_pmf import PMF\n",
        "from cornac.models.nmf.recom_nmf import NMF\n",
        "from cornac.models.bpr.recom_bpr import BPR"
      ]
    },
    {
      "cell_type": "code",
      "execution_count": null,
      "metadata": {
        "id": "fo-16KWpaD1A"
      },
      "outputs": [],
      "source": [
        "models = [\n",
        "    SVD(),\n",
        "    MF(),\n",
        "    NMF(),\n",
        "    PMF(),\n",
        "    BPR()\n",
        "]"
      ]
    },
    {
      "cell_type": "markdown",
      "metadata": {
        "id": "-CLxWa9nTmko"
      },
      "source": [
        "Приведём данные к нужному виду"
      ]
    },
    {
      "cell_type": "code",
      "execution_count": 4,
      "metadata": {
        "colab": {
          "base_uri": "https://localhost:8080/",
          "height": 206
        },
        "id": "7C5XNTAicrLR",
        "outputId": "9ccdbd86-558c-468d-c1e5-f451ac0e329c"
      },
      "outputs": [
        {
          "output_type": "execute_result",
          "data": {
            "text/plain": [
              "   user_id  item_id                    order_ts  order_date time_diff\n",
              "0   284402     3278  2023-01-01 00:00:05.000000  2023-01-01       NaN\n",
              "1   463218     2597  2023-01-01 00:00:08.000000  2023-01-01       NaN\n",
              "2      543      120  2023-01-01 00:00:12.000000  2023-01-01       NaN\n",
              "3   161063      516  2023-01-01 00:00:13.000000  2023-01-01       NaN\n",
              "4    43025     1285  2023-01-01 00:00:16.000000  2023-01-01       NaN"
            ],
            "text/html": [
              "\n",
              "  <div id=\"df-debaf820-cde1-47c7-86c0-9ca40d41ddbb\" class=\"colab-df-container\">\n",
              "    <div>\n",
              "<style scoped>\n",
              "    .dataframe tbody tr th:only-of-type {\n",
              "        vertical-align: middle;\n",
              "    }\n",
              "\n",
              "    .dataframe tbody tr th {\n",
              "        vertical-align: top;\n",
              "    }\n",
              "\n",
              "    .dataframe thead th {\n",
              "        text-align: right;\n",
              "    }\n",
              "</style>\n",
              "<table border=\"1\" class=\"dataframe\">\n",
              "  <thead>\n",
              "    <tr style=\"text-align: right;\">\n",
              "      <th></th>\n",
              "      <th>user_id</th>\n",
              "      <th>item_id</th>\n",
              "      <th>order_ts</th>\n",
              "      <th>order_date</th>\n",
              "      <th>time_diff</th>\n",
              "    </tr>\n",
              "  </thead>\n",
              "  <tbody>\n",
              "    <tr>\n",
              "      <th>0</th>\n",
              "      <td>284402</td>\n",
              "      <td>3278</td>\n",
              "      <td>2023-01-01 00:00:05.000000</td>\n",
              "      <td>2023-01-01</td>\n",
              "      <td>NaN</td>\n",
              "    </tr>\n",
              "    <tr>\n",
              "      <th>1</th>\n",
              "      <td>463218</td>\n",
              "      <td>2597</td>\n",
              "      <td>2023-01-01 00:00:08.000000</td>\n",
              "      <td>2023-01-01</td>\n",
              "      <td>NaN</td>\n",
              "    </tr>\n",
              "    <tr>\n",
              "      <th>2</th>\n",
              "      <td>543</td>\n",
              "      <td>120</td>\n",
              "      <td>2023-01-01 00:00:12.000000</td>\n",
              "      <td>2023-01-01</td>\n",
              "      <td>NaN</td>\n",
              "    </tr>\n",
              "    <tr>\n",
              "      <th>3</th>\n",
              "      <td>161063</td>\n",
              "      <td>516</td>\n",
              "      <td>2023-01-01 00:00:13.000000</td>\n",
              "      <td>2023-01-01</td>\n",
              "      <td>NaN</td>\n",
              "    </tr>\n",
              "    <tr>\n",
              "      <th>4</th>\n",
              "      <td>43025</td>\n",
              "      <td>1285</td>\n",
              "      <td>2023-01-01 00:00:16.000000</td>\n",
              "      <td>2023-01-01</td>\n",
              "      <td>NaN</td>\n",
              "    </tr>\n",
              "  </tbody>\n",
              "</table>\n",
              "</div>\n",
              "    <div class=\"colab-df-buttons\">\n",
              "\n",
              "  <div class=\"colab-df-container\">\n",
              "    <button class=\"colab-df-convert\" onclick=\"convertToInteractive('df-debaf820-cde1-47c7-86c0-9ca40d41ddbb')\"\n",
              "            title=\"Convert this dataframe to an interactive table.\"\n",
              "            style=\"display:none;\">\n",
              "\n",
              "  <svg xmlns=\"http://www.w3.org/2000/svg\" height=\"24px\" viewBox=\"0 -960 960 960\">\n",
              "    <path d=\"M120-120v-720h720v720H120Zm60-500h600v-160H180v160Zm220 220h160v-160H400v160Zm0 220h160v-160H400v160ZM180-400h160v-160H180v160Zm440 0h160v-160H620v160ZM180-180h160v-160H180v160Zm440 0h160v-160H620v160Z\"/>\n",
              "  </svg>\n",
              "    </button>\n",
              "\n",
              "  <style>\n",
              "    .colab-df-container {\n",
              "      display:flex;\n",
              "      gap: 12px;\n",
              "    }\n",
              "\n",
              "    .colab-df-convert {\n",
              "      background-color: #E8F0FE;\n",
              "      border: none;\n",
              "      border-radius: 50%;\n",
              "      cursor: pointer;\n",
              "      display: none;\n",
              "      fill: #1967D2;\n",
              "      height: 32px;\n",
              "      padding: 0 0 0 0;\n",
              "      width: 32px;\n",
              "    }\n",
              "\n",
              "    .colab-df-convert:hover {\n",
              "      background-color: #E2EBFA;\n",
              "      box-shadow: 0px 1px 2px rgba(60, 64, 67, 0.3), 0px 1px 3px 1px rgba(60, 64, 67, 0.15);\n",
              "      fill: #174EA6;\n",
              "    }\n",
              "\n",
              "    .colab-df-buttons div {\n",
              "      margin-bottom: 4px;\n",
              "    }\n",
              "\n",
              "    [theme=dark] .colab-df-convert {\n",
              "      background-color: #3B4455;\n",
              "      fill: #D2E3FC;\n",
              "    }\n",
              "\n",
              "    [theme=dark] .colab-df-convert:hover {\n",
              "      background-color: #434B5C;\n",
              "      box-shadow: 0px 1px 3px 1px rgba(0, 0, 0, 0.15);\n",
              "      filter: drop-shadow(0px 1px 2px rgba(0, 0, 0, 0.3));\n",
              "      fill: #FFFFFF;\n",
              "    }\n",
              "  </style>\n",
              "\n",
              "    <script>\n",
              "      const buttonEl =\n",
              "        document.querySelector('#df-debaf820-cde1-47c7-86c0-9ca40d41ddbb button.colab-df-convert');\n",
              "      buttonEl.style.display =\n",
              "        google.colab.kernel.accessAllowed ? 'block' : 'none';\n",
              "\n",
              "      async function convertToInteractive(key) {\n",
              "        const element = document.querySelector('#df-debaf820-cde1-47c7-86c0-9ca40d41ddbb');\n",
              "        const dataTable =\n",
              "          await google.colab.kernel.invokeFunction('convertToInteractive',\n",
              "                                                    [key], {});\n",
              "        if (!dataTable) return;\n",
              "\n",
              "        const docLinkHtml = 'Like what you see? Visit the ' +\n",
              "          '<a target=\"_blank\" href=https://colab.research.google.com/notebooks/data_table.ipynb>data table notebook</a>'\n",
              "          + ' to learn more about interactive tables.';\n",
              "        element.innerHTML = '';\n",
              "        dataTable['output_type'] = 'display_data';\n",
              "        await google.colab.output.renderOutput(dataTable, element);\n",
              "        const docLink = document.createElement('div');\n",
              "        docLink.innerHTML = docLinkHtml;\n",
              "        element.appendChild(docLink);\n",
              "      }\n",
              "    </script>\n",
              "  </div>\n",
              "\n",
              "\n",
              "<div id=\"df-e7fbfee8-4ed8-4c19-859e-3d6140661b75\">\n",
              "  <button class=\"colab-df-quickchart\" onclick=\"quickchart('df-e7fbfee8-4ed8-4c19-859e-3d6140661b75')\"\n",
              "            title=\"Suggest charts\"\n",
              "            style=\"display:none;\">\n",
              "\n",
              "<svg xmlns=\"http://www.w3.org/2000/svg\" height=\"24px\"viewBox=\"0 0 24 24\"\n",
              "     width=\"24px\">\n",
              "    <g>\n",
              "        <path d=\"M19 3H5c-1.1 0-2 .9-2 2v14c0 1.1.9 2 2 2h14c1.1 0 2-.9 2-2V5c0-1.1-.9-2-2-2zM9 17H7v-7h2v7zm4 0h-2V7h2v10zm4 0h-2v-4h2v4z\"/>\n",
              "    </g>\n",
              "</svg>\n",
              "  </button>\n",
              "\n",
              "<style>\n",
              "  .colab-df-quickchart {\n",
              "      --bg-color: #E8F0FE;\n",
              "      --fill-color: #1967D2;\n",
              "      --hover-bg-color: #E2EBFA;\n",
              "      --hover-fill-color: #174EA6;\n",
              "      --disabled-fill-color: #AAA;\n",
              "      --disabled-bg-color: #DDD;\n",
              "  }\n",
              "\n",
              "  [theme=dark] .colab-df-quickchart {\n",
              "      --bg-color: #3B4455;\n",
              "      --fill-color: #D2E3FC;\n",
              "      --hover-bg-color: #434B5C;\n",
              "      --hover-fill-color: #FFFFFF;\n",
              "      --disabled-bg-color: #3B4455;\n",
              "      --disabled-fill-color: #666;\n",
              "  }\n",
              "\n",
              "  .colab-df-quickchart {\n",
              "    background-color: var(--bg-color);\n",
              "    border: none;\n",
              "    border-radius: 50%;\n",
              "    cursor: pointer;\n",
              "    display: none;\n",
              "    fill: var(--fill-color);\n",
              "    height: 32px;\n",
              "    padding: 0;\n",
              "    width: 32px;\n",
              "  }\n",
              "\n",
              "  .colab-df-quickchart:hover {\n",
              "    background-color: var(--hover-bg-color);\n",
              "    box-shadow: 0 1px 2px rgba(60, 64, 67, 0.3), 0 1px 3px 1px rgba(60, 64, 67, 0.15);\n",
              "    fill: var(--button-hover-fill-color);\n",
              "  }\n",
              "\n",
              "  .colab-df-quickchart-complete:disabled,\n",
              "  .colab-df-quickchart-complete:disabled:hover {\n",
              "    background-color: var(--disabled-bg-color);\n",
              "    fill: var(--disabled-fill-color);\n",
              "    box-shadow: none;\n",
              "  }\n",
              "\n",
              "  .colab-df-spinner {\n",
              "    border: 2px solid var(--fill-color);\n",
              "    border-color: transparent;\n",
              "    border-bottom-color: var(--fill-color);\n",
              "    animation:\n",
              "      spin 1s steps(1) infinite;\n",
              "  }\n",
              "\n",
              "  @keyframes spin {\n",
              "    0% {\n",
              "      border-color: transparent;\n",
              "      border-bottom-color: var(--fill-color);\n",
              "      border-left-color: var(--fill-color);\n",
              "    }\n",
              "    20% {\n",
              "      border-color: transparent;\n",
              "      border-left-color: var(--fill-color);\n",
              "      border-top-color: var(--fill-color);\n",
              "    }\n",
              "    30% {\n",
              "      border-color: transparent;\n",
              "      border-left-color: var(--fill-color);\n",
              "      border-top-color: var(--fill-color);\n",
              "      border-right-color: var(--fill-color);\n",
              "    }\n",
              "    40% {\n",
              "      border-color: transparent;\n",
              "      border-right-color: var(--fill-color);\n",
              "      border-top-color: var(--fill-color);\n",
              "    }\n",
              "    60% {\n",
              "      border-color: transparent;\n",
              "      border-right-color: var(--fill-color);\n",
              "    }\n",
              "    80% {\n",
              "      border-color: transparent;\n",
              "      border-right-color: var(--fill-color);\n",
              "      border-bottom-color: var(--fill-color);\n",
              "    }\n",
              "    90% {\n",
              "      border-color: transparent;\n",
              "      border-bottom-color: var(--fill-color);\n",
              "    }\n",
              "  }\n",
              "</style>\n",
              "\n",
              "  <script>\n",
              "    async function quickchart(key) {\n",
              "      const quickchartButtonEl =\n",
              "        document.querySelector('#' + key + ' button');\n",
              "      quickchartButtonEl.disabled = true;  // To prevent multiple clicks.\n",
              "      quickchartButtonEl.classList.add('colab-df-spinner');\n",
              "      try {\n",
              "        const charts = await google.colab.kernel.invokeFunction(\n",
              "            'suggestCharts', [key], {});\n",
              "      } catch (error) {\n",
              "        console.error('Error during call to suggestCharts:', error);\n",
              "      }\n",
              "      quickchartButtonEl.classList.remove('colab-df-spinner');\n",
              "      quickchartButtonEl.classList.add('colab-df-quickchart-complete');\n",
              "    }\n",
              "    (() => {\n",
              "      let quickchartButtonEl =\n",
              "        document.querySelector('#df-e7fbfee8-4ed8-4c19-859e-3d6140661b75 button');\n",
              "      quickchartButtonEl.style.display =\n",
              "        google.colab.kernel.accessAllowed ? 'block' : 'none';\n",
              "    })();\n",
              "  </script>\n",
              "</div>\n",
              "    </div>\n",
              "  </div>\n"
            ],
            "application/vnd.google.colaboratory.intrinsic+json": {
              "type": "dataframe",
              "variable_name": "train_df"
            }
          },
          "metadata": {},
          "execution_count": 4
        }
      ],
      "source": [
        "train_df = pd.read_csv('/content/drive/MyDrive/train_df.csv')\n",
        "val_df = pd.read_csv('/content/drive/MyDrive/val_df.csv')\n",
        "test_df = pd.read_csv('/content/drive/MyDrive/test_df.csv')\n",
        "train_df.head()"
      ]
    },
    {
      "cell_type": "code",
      "execution_count": 27,
      "metadata": {
        "id": "ortheMaWGJpi"
      },
      "outputs": [],
      "source": [
        "# Количество уникальных пользователей и товаров\n",
        "users = set(train_df['user_id'].unique()).union(set(val_df['user_id'].unique()), set(test_df['user_id'].unique()))\n",
        "items = set(train_df['item_id'].unique()).union(set(val_df['item_id'].unique()), set(test_df['item_id'].unique()))"
      ]
    },
    {
      "cell_type": "code",
      "execution_count": 5,
      "metadata": {
        "id": "iM1uglUXvnEp"
      },
      "outputs": [],
      "source": [
        "# Преобразуем строки столбца order_ts в дату-время\n",
        "train_df['order_ts'] = pd.to_datetime(train_df['order_ts'])\n",
        "val_df['order_ts'] = pd.to_datetime(val_df['order_ts'])\n",
        "test_df['order_ts'] = pd.to_datetime(test_df['order_ts'])"
      ]
    },
    {
      "cell_type": "markdown",
      "source": [
        "Разделим валидационную и тестовую выборки на тёплых и холодных пользователей, сделаем для них отдельные бейзлайны"
      ],
      "metadata": {
        "id": "a2sF6Xbd0SbQ"
      }
    },
    {
      "cell_type": "code",
      "execution_count": 6,
      "metadata": {
        "id": "KXIvS09t5hw1"
      },
      "outputs": [],
      "source": [
        "train_users = train_df['user_id'].unique()\n",
        "cold_val_df = val_df[~val_df['user_id'].isin(train_users)]\n",
        "warm_val_df = val_df[val_df['user_id'].isin(train_users)]\n",
        "cold_test_df = test_df[~test_df['user_id'].isin(train_users)]\n",
        "warm_test_df = test_df[test_df['user_id'].isin(train_users)]"
      ]
    },
    {
      "cell_type": "code",
      "execution_count": 13,
      "metadata": {
        "id": "_6v-WXc3YQj5"
      },
      "outputs": [],
      "source": [
        "# Количество пользователей и товаров\n",
        "num_users = max(users) + 1\n",
        "num_items = max(items) + 1\n",
        "\n",
        "# Делаем маппинг, где id равны самим себе, потому что датасет был предварительно обработан и они равны индексам в списках уникальных товаров и пользователей\n",
        "uid_map = {idx: idx for idx in users}\n",
        "iid_map = {idx: idx for idx in items}"
      ]
    },
    {
      "cell_type": "code",
      "execution_count": null,
      "metadata": {
        "id": "Fu1TmUx4tQVn"
      },
      "outputs": [],
      "source": [
        "# Подсчитываем количество покупок каждого товара каждым пользователем\n",
        "order_counts = train_df.groupby(['user_id', 'item_id']).size().reset_index(name='order_count')\n",
        "\n",
        "# Создаем массивы индексов пользователей и товаров\n",
        "user_indices = order_counts['user_id'].map(uid_map).values\n",
        "item_indices = order_counts['item_id'].map(iid_map).values\n",
        "\n",
        "# Создаем массив количества покупок\n",
        "order_counts_arr = order_counts['order_count'].values\n",
        "mask = order_counts_arr > 0\n",
        "order_counts_arr[mask] = 1\n",
        "\n",
        "# Создаем кортеж из трех массивов\n",
        "uir_tuple = (user_indices, item_indices, order_counts_arr)"
      ]
    },
    {
      "cell_type": "code",
      "execution_count": null,
      "metadata": {
        "id": "Sxm3jaKSwwER"
      },
      "outputs": [],
      "source": [
        "train_dataset = Dataset(num_users, num_items, uid_map, iid_map, uir_tuple)"
      ]
    },
    {
      "cell_type": "code",
      "execution_count": null,
      "metadata": {
        "id": "xnRvXiT5xQ4e"
      },
      "outputs": [],
      "source": [
        "# Подсчитываем количество покупок каждого товара каждым пользователем\n",
        "order_counts = warm_val_df.groupby(['user_id', 'item_id']).size().reset_index(name='order_count')\n",
        "\n",
        "# Создаем массивы индексов пользователей и товаров\n",
        "user_indices = order_counts['user_id'].map(uid_map).values\n",
        "item_indices = order_counts['item_id'].map(iid_map).values\n",
        "\n",
        "# Создаем массив количества покупок\n",
        "order_counts_arr = order_counts['order_count'].values\n",
        "mask = order_counts_arr > 0\n",
        "order_counts_arr[mask] = 1\n",
        "\n",
        "# Создаем кортеж из трех массивов\n",
        "uir_tuple = (user_indices, item_indices, order_counts_arr)"
      ]
    },
    {
      "cell_type": "code",
      "execution_count": null,
      "metadata": {
        "id": "pft1jmJixKXK"
      },
      "outputs": [],
      "source": [
        "val_dataset = Dataset(num_users, num_items, uid_map, iid_map, uir_tuple)"
      ]
    },
    {
      "cell_type": "code",
      "execution_count": null,
      "metadata": {
        "id": "y46fHEM3wCdE"
      },
      "outputs": [],
      "source": [
        "# Подсчитываем количество покупок каждого товара каждым пользователем\n",
        "order_counts = warm_test_df.groupby(['user_id', 'item_id']).size().reset_index(name='order_count')\n",
        "\n",
        "# Создаем массивы индексов пользователей и товаров\n",
        "user_indices = order_counts['user_id'].map(uid_map).values\n",
        "item_indices = order_counts['item_id'].map(iid_map).values\n",
        "\n",
        "# Создаем массив нормализованного количества покупок\n",
        "order_counts_arr = order_counts['order_count'].values\n",
        "mask = order_counts_arr > 0\n",
        "order_counts_arr[mask] = 1\n",
        "\n",
        "# Создаем кортеж из трех массивов\n",
        "uir_tuple = (user_indices, item_indices, order_counts_arr)"
      ]
    },
    {
      "cell_type": "code",
      "execution_count": null,
      "metadata": {
        "id": "_WaFB7Q-wJGW"
      },
      "outputs": [],
      "source": [
        "test_dataset = Dataset(num_users, num_items, uid_map, iid_map, uir_tuple)"
      ]
    },
    {
      "cell_type": "code",
      "execution_count": null,
      "metadata": {
        "id": "1jmF9cwXR3-P"
      },
      "outputs": [],
      "source": [
        "bm = cn.eval_methods.base_method.BaseMethod(data=train_dataset, rating_threshold=0.5)\n",
        "\n",
        "bm.train_set = train_dataset\n",
        "bm.val_set = val_dataset\n",
        "bm.test_set = test_dataset"
      ]
    },
    {
      "cell_type": "code",
      "execution_count": null,
      "metadata": {
        "colab": {
          "base_uri": "https://localhost:8080/"
        },
        "id": "nmBLCfh1gUNG",
        "outputId": "e6e0184b-3bb5-4ba6-be04-6299cb00fdbf"
      },
      "outputs": [
        {
          "name": "stdout",
          "output_type": "stream",
          "text": [
            "\n",
            "VALIDATION:\n",
            "...\n",
            "    | HitRatio@20 |    MAP | NDCG@20 | Precision@20 | Recall@20 |  Time (s)\n",
            "--- + ----------- + ------ + ------- + ------------ + --------- + ---------\n",
            "SVD |      0.0004 | 0.0012 |  0.0000 |       0.0000 |    0.0001 | 1602.0800\n",
            "MF  |      0.0004 | 0.0013 |  0.0000 |       0.0000 |    0.0001 | 1610.4329\n",
            "NMF |      0.0303 | 0.0038 |  0.0040 |       0.0015 |    0.0079 | 1629.9507\n",
            "PMF |      0.5131 | 0.0713 |  0.1206 |       0.0449 |    0.1898 | 1755.7690\n",
            "BPR |      0.5473 | 0.0880 |  0.1434 |       0.0533 |    0.2130 | 1513.7022\n",
            "\n",
            "TEST:\n",
            "...\n",
            "    | HitRatio@20 |    MAP | NDCG@20 | Precision@20 | Recall@20 | Train (s) |  Test (s)\n",
            "--- + ----------- + ------ + ------- + ------------ + --------- + --------- + ---------\n",
            "SVD |      0.0003 | 0.0009 |  0.0000 |       0.0000 |    0.0001 |    7.0087 | 1226.0307\n",
            "MF  |      0.0003 | 0.0010 |  0.0000 |       0.0000 |    0.0001 |    5.4543 | 1234.2082\n",
            "NMF |      0.0197 | 0.0031 |  0.0030 |       0.0010 |    0.0067 |   58.9628 | 1239.5722\n",
            "PMF |      0.4255 | 0.0648 |  0.1086 |       0.0320 |    0.1932 |  255.7737 | 1345.0102\n",
            "BPR |      0.4657 | 0.0823 |  0.1327 |       0.0382 |    0.2206 |  336.6983 | 1192.1934\n",
            "\n"
          ]
        }
      ],
      "source": [
        "Experiment(eval_method=bm, models=models, metrics=metrics).run()"
      ]
    },
    {
      "cell_type": "markdown",
      "source": [
        "Лучше всего себя показали модели PMF, BPR, попробуем для них ещё задать параметр user_based=True (сначала вычисляется средняя производительность для каждого пользователя, затем полученные значения усредняются для получения окончательного результата)"
      ],
      "metadata": {
        "id": "2djhpkrp06P9"
      }
    },
    {
      "cell_type": "code",
      "execution_count": null,
      "metadata": {
        "id": "Vuwa0L-nZf_C",
        "colab": {
          "base_uri": "https://localhost:8080/"
        },
        "outputId": "68f79167-4c2e-4ccc-d15a-19e74aafe01d"
      },
      "outputs": [
        {
          "output_type": "stream",
          "name": "stdout",
          "text": [
            "\n",
            "VALIDATION:\n",
            "...\n",
            "    | HitRatio@20 |    MAP | NDCG@20 | Precision@20 | Recall@20 |  Time (s)\n",
            "--- + ----------- + ------ + ------- + ------------ + --------- + ---------\n",
            "PMF |      0.5131 | 0.0713 |  0.1206 |       0.0449 |    0.1898 | 1867.4256\n",
            "BPR |      0.5454 | 0.0861 |  0.1422 |       0.0531 |    0.2116 | 1648.6163\n",
            "\n",
            "TEST:\n",
            "...\n",
            "    | HitRatio@20 |    MAP | NDCG@20 | Precision@20 | Recall@20 | Train (s) |  Test (s)\n",
            "--- + ----------- + ------ + ------- + ------------ + --------- + --------- + ---------\n",
            "PMF |      0.4255 | 0.0648 |  0.1086 |       0.0320 |    0.1932 |  265.6671 | 1438.8638\n",
            "BPR |      0.4641 | 0.0823 |  0.1332 |       0.0381 |    0.2195 |  448.1003 | 1322.8598\n",
            "\n"
          ]
        }
      ],
      "source": [
        "Experiment(eval_method=bm, models=[PMF(), BPR()], metrics=metrics, user_based=True).run()"
      ]
    },
    {
      "cell_type": "markdown",
      "source": [
        "Результаты не изменились. Лучшее качество показала модель BPR, будем далее оптимизировать её. Подберём гиперпараметры для неё и объединим с другой моделью, предположительно - SR."
      ],
      "metadata": {
        "id": "800-IonP1PTD"
      }
    },
    {
      "cell_type": "markdown",
      "metadata": {
        "id": "LRBmAg7U30F3"
      },
      "source": [
        "Для холодных пользователей за бейзлайн возьмём предсказание самых популярных за последние 2 недели товаров"
      ]
    },
    {
      "cell_type": "code",
      "execution_count": null,
      "metadata": {
        "id": "K4Oj1VHCf8xm"
      },
      "outputs": [],
      "source": [
        "cold_df = pd.concat([cold_val_df, cold_test_df], ignore_index=True)\n",
        "date_start = cold_val_df.order_ts.min()\n",
        "\n",
        "val_data_last = train_df[(train_df.order_ts >= date_start - datetime.timedelta(days=14)) & (train_df.order_ts < date_start)]\n",
        "val_pop_rec = val_data_last[[\"user_id\", \"item_id\"]].drop_duplicates().groupby(\"item_id\").size()\n",
        "# Составим список из 100 самых популярных товаров\n",
        "val_pop_rec = val_pop_rec.sort_values()[-100:].index[::-1].to_numpy()"
      ]
    },
    {
      "cell_type": "code",
      "execution_count": null,
      "metadata": {
        "id": "IoVGBZZcnSxv"
      },
      "outputs": [],
      "source": [
        "def precision_k(y_true, y_pred, k):\n",
        "  TP = len(set(y_true) & set(y_pred))\n",
        "  return TP / k\n",
        "\n",
        "def recall_k(y_true, y_pred, k):\n",
        "  TP = len(set(y_true) & set(y_pred))\n",
        "  return TP / len(y_true)"
      ]
    },
    {
      "cell_type": "code",
      "execution_count": null,
      "metadata": {
        "id": "Ja3lGPYEoBSR"
      },
      "outputs": [],
      "source": [
        "k = 20"
      ]
    },
    {
      "cell_type": "code",
      "execution_count": null,
      "metadata": {
        "colab": {
          "base_uri": "https://localhost:8080/",
          "height": 206
        },
        "id": "yExoGnSu16Vk",
        "outputId": "01ee363c-e633-4da0-b613-2ed18c1b9b21"
      },
      "outputs": [
        {
          "data": {
            "application/vnd.google.colaboratory.intrinsic+json": {
              "summary": "{\n  \"name\": \"cold_df\",\n  \"rows\": 93358,\n  \"fields\": [\n    {\n      \"column\": \"user_id\",\n      \"properties\": {\n        \"dtype\": \"number\",\n        \"std\": 60374,\n        \"min\": 771376,\n        \"max\": 1057044,\n        \"num_unique_values\": 93358,\n        \"samples\": [\n          970485,\n          1015715,\n          1037932\n        ],\n        \"semantic_type\": \"\",\n        \"description\": \"\"\n      }\n    },\n    {\n      \"column\": \"item_id\",\n      \"properties\": {\n        \"dtype\": \"object\",\n        \"semantic_type\": \"\",\n        \"description\": \"\"\n      }\n    }\n  ]\n}",
              "type": "dataframe",
              "variable_name": "cold_df"
            },
            "text/html": [
              "\n",
              "  <div id=\"df-17733424-01a5-409b-9d99-6ace6b57dc93\" class=\"colab-df-container\">\n",
              "    <div>\n",
              "<style scoped>\n",
              "    .dataframe tbody tr th:only-of-type {\n",
              "        vertical-align: middle;\n",
              "    }\n",
              "\n",
              "    .dataframe tbody tr th {\n",
              "        vertical-align: top;\n",
              "    }\n",
              "\n",
              "    .dataframe thead th {\n",
              "        text-align: right;\n",
              "    }\n",
              "</style>\n",
              "<table border=\"1\" class=\"dataframe\">\n",
              "  <thead>\n",
              "    <tr style=\"text-align: right;\">\n",
              "      <th></th>\n",
              "      <th>user_id</th>\n",
              "      <th>item_id</th>\n",
              "    </tr>\n",
              "  </thead>\n",
              "  <tbody>\n",
              "    <tr>\n",
              "      <th>0</th>\n",
              "      <td>771376</td>\n",
              "      <td>[817, 1217, 383, 471]</td>\n",
              "    </tr>\n",
              "    <tr>\n",
              "      <th>1</th>\n",
              "      <td>771484</td>\n",
              "      <td>[1066, 454, 447]</td>\n",
              "    </tr>\n",
              "    <tr>\n",
              "      <th>2</th>\n",
              "      <td>773470</td>\n",
              "      <td>[24]</td>\n",
              "    </tr>\n",
              "    <tr>\n",
              "      <th>3</th>\n",
              "      <td>773560</td>\n",
              "      <td>[5, 138, 144, 4631, 549, 1708, 179, 184, 1208,...</td>\n",
              "    </tr>\n",
              "    <tr>\n",
              "      <th>4</th>\n",
              "      <td>773561</td>\n",
              "      <td>[341]</td>\n",
              "    </tr>\n",
              "  </tbody>\n",
              "</table>\n",
              "</div>\n",
              "    <div class=\"colab-df-buttons\">\n",
              "\n",
              "  <div class=\"colab-df-container\">\n",
              "    <button class=\"colab-df-convert\" onclick=\"convertToInteractive('df-17733424-01a5-409b-9d99-6ace6b57dc93')\"\n",
              "            title=\"Convert this dataframe to an interactive table.\"\n",
              "            style=\"display:none;\">\n",
              "\n",
              "  <svg xmlns=\"http://www.w3.org/2000/svg\" height=\"24px\" viewBox=\"0 -960 960 960\">\n",
              "    <path d=\"M120-120v-720h720v720H120Zm60-500h600v-160H180v160Zm220 220h160v-160H400v160Zm0 220h160v-160H400v160ZM180-400h160v-160H180v160Zm440 0h160v-160H620v160ZM180-180h160v-160H180v160Zm440 0h160v-160H620v160Z\"/>\n",
              "  </svg>\n",
              "    </button>\n",
              "\n",
              "  <style>\n",
              "    .colab-df-container {\n",
              "      display:flex;\n",
              "      gap: 12px;\n",
              "    }\n",
              "\n",
              "    .colab-df-convert {\n",
              "      background-color: #E8F0FE;\n",
              "      border: none;\n",
              "      border-radius: 50%;\n",
              "      cursor: pointer;\n",
              "      display: none;\n",
              "      fill: #1967D2;\n",
              "      height: 32px;\n",
              "      padding: 0 0 0 0;\n",
              "      width: 32px;\n",
              "    }\n",
              "\n",
              "    .colab-df-convert:hover {\n",
              "      background-color: #E2EBFA;\n",
              "      box-shadow: 0px 1px 2px rgba(60, 64, 67, 0.3), 0px 1px 3px 1px rgba(60, 64, 67, 0.15);\n",
              "      fill: #174EA6;\n",
              "    }\n",
              "\n",
              "    .colab-df-buttons div {\n",
              "      margin-bottom: 4px;\n",
              "    }\n",
              "\n",
              "    [theme=dark] .colab-df-convert {\n",
              "      background-color: #3B4455;\n",
              "      fill: #D2E3FC;\n",
              "    }\n",
              "\n",
              "    [theme=dark] .colab-df-convert:hover {\n",
              "      background-color: #434B5C;\n",
              "      box-shadow: 0px 1px 3px 1px rgba(0, 0, 0, 0.15);\n",
              "      filter: drop-shadow(0px 1px 2px rgba(0, 0, 0, 0.3));\n",
              "      fill: #FFFFFF;\n",
              "    }\n",
              "  </style>\n",
              "\n",
              "    <script>\n",
              "      const buttonEl =\n",
              "        document.querySelector('#df-17733424-01a5-409b-9d99-6ace6b57dc93 button.colab-df-convert');\n",
              "      buttonEl.style.display =\n",
              "        google.colab.kernel.accessAllowed ? 'block' : 'none';\n",
              "\n",
              "      async function convertToInteractive(key) {\n",
              "        const element = document.querySelector('#df-17733424-01a5-409b-9d99-6ace6b57dc93');\n",
              "        const dataTable =\n",
              "          await google.colab.kernel.invokeFunction('convertToInteractive',\n",
              "                                                    [key], {});\n",
              "        if (!dataTable) return;\n",
              "\n",
              "        const docLinkHtml = 'Like what you see? Visit the ' +\n",
              "          '<a target=\"_blank\" href=https://colab.research.google.com/notebooks/data_table.ipynb>data table notebook</a>'\n",
              "          + ' to learn more about interactive tables.';\n",
              "        element.innerHTML = '';\n",
              "        dataTable['output_type'] = 'display_data';\n",
              "        await google.colab.output.renderOutput(dataTable, element);\n",
              "        const docLink = document.createElement('div');\n",
              "        docLink.innerHTML = docLinkHtml;\n",
              "        element.appendChild(docLink);\n",
              "      }\n",
              "    </script>\n",
              "  </div>\n",
              "\n",
              "\n",
              "<div id=\"df-a8c05bed-fba9-4650-ad73-ff5f1004b378\">\n",
              "  <button class=\"colab-df-quickchart\" onclick=\"quickchart('df-a8c05bed-fba9-4650-ad73-ff5f1004b378')\"\n",
              "            title=\"Suggest charts\"\n",
              "            style=\"display:none;\">\n",
              "\n",
              "<svg xmlns=\"http://www.w3.org/2000/svg\" height=\"24px\"viewBox=\"0 0 24 24\"\n",
              "     width=\"24px\">\n",
              "    <g>\n",
              "        <path d=\"M19 3H5c-1.1 0-2 .9-2 2v14c0 1.1.9 2 2 2h14c1.1 0 2-.9 2-2V5c0-1.1-.9-2-2-2zM9 17H7v-7h2v7zm4 0h-2V7h2v10zm4 0h-2v-4h2v4z\"/>\n",
              "    </g>\n",
              "</svg>\n",
              "  </button>\n",
              "\n",
              "<style>\n",
              "  .colab-df-quickchart {\n",
              "      --bg-color: #E8F0FE;\n",
              "      --fill-color: #1967D2;\n",
              "      --hover-bg-color: #E2EBFA;\n",
              "      --hover-fill-color: #174EA6;\n",
              "      --disabled-fill-color: #AAA;\n",
              "      --disabled-bg-color: #DDD;\n",
              "  }\n",
              "\n",
              "  [theme=dark] .colab-df-quickchart {\n",
              "      --bg-color: #3B4455;\n",
              "      --fill-color: #D2E3FC;\n",
              "      --hover-bg-color: #434B5C;\n",
              "      --hover-fill-color: #FFFFFF;\n",
              "      --disabled-bg-color: #3B4455;\n",
              "      --disabled-fill-color: #666;\n",
              "  }\n",
              "\n",
              "  .colab-df-quickchart {\n",
              "    background-color: var(--bg-color);\n",
              "    border: none;\n",
              "    border-radius: 50%;\n",
              "    cursor: pointer;\n",
              "    display: none;\n",
              "    fill: var(--fill-color);\n",
              "    height: 32px;\n",
              "    padding: 0;\n",
              "    width: 32px;\n",
              "  }\n",
              "\n",
              "  .colab-df-quickchart:hover {\n",
              "    background-color: var(--hover-bg-color);\n",
              "    box-shadow: 0 1px 2px rgba(60, 64, 67, 0.3), 0 1px 3px 1px rgba(60, 64, 67, 0.15);\n",
              "    fill: var(--button-hover-fill-color);\n",
              "  }\n",
              "\n",
              "  .colab-df-quickchart-complete:disabled,\n",
              "  .colab-df-quickchart-complete:disabled:hover {\n",
              "    background-color: var(--disabled-bg-color);\n",
              "    fill: var(--disabled-fill-color);\n",
              "    box-shadow: none;\n",
              "  }\n",
              "\n",
              "  .colab-df-spinner {\n",
              "    border: 2px solid var(--fill-color);\n",
              "    border-color: transparent;\n",
              "    border-bottom-color: var(--fill-color);\n",
              "    animation:\n",
              "      spin 1s steps(1) infinite;\n",
              "  }\n",
              "\n",
              "  @keyframes spin {\n",
              "    0% {\n",
              "      border-color: transparent;\n",
              "      border-bottom-color: var(--fill-color);\n",
              "      border-left-color: var(--fill-color);\n",
              "    }\n",
              "    20% {\n",
              "      border-color: transparent;\n",
              "      border-left-color: var(--fill-color);\n",
              "      border-top-color: var(--fill-color);\n",
              "    }\n",
              "    30% {\n",
              "      border-color: transparent;\n",
              "      border-left-color: var(--fill-color);\n",
              "      border-top-color: var(--fill-color);\n",
              "      border-right-color: var(--fill-color);\n",
              "    }\n",
              "    40% {\n",
              "      border-color: transparent;\n",
              "      border-right-color: var(--fill-color);\n",
              "      border-top-color: var(--fill-color);\n",
              "    }\n",
              "    60% {\n",
              "      border-color: transparent;\n",
              "      border-right-color: var(--fill-color);\n",
              "    }\n",
              "    80% {\n",
              "      border-color: transparent;\n",
              "      border-right-color: var(--fill-color);\n",
              "      border-bottom-color: var(--fill-color);\n",
              "    }\n",
              "    90% {\n",
              "      border-color: transparent;\n",
              "      border-bottom-color: var(--fill-color);\n",
              "    }\n",
              "  }\n",
              "</style>\n",
              "\n",
              "  <script>\n",
              "    async function quickchart(key) {\n",
              "      const quickchartButtonEl =\n",
              "        document.querySelector('#' + key + ' button');\n",
              "      quickchartButtonEl.disabled = true;  // To prevent multiple clicks.\n",
              "      quickchartButtonEl.classList.add('colab-df-spinner');\n",
              "      try {\n",
              "        const charts = await google.colab.kernel.invokeFunction(\n",
              "            'suggestCharts', [key], {});\n",
              "      } catch (error) {\n",
              "        console.error('Error during call to suggestCharts:', error);\n",
              "      }\n",
              "      quickchartButtonEl.classList.remove('colab-df-spinner');\n",
              "      quickchartButtonEl.classList.add('colab-df-quickchart-complete');\n",
              "    }\n",
              "    (() => {\n",
              "      let quickchartButtonEl =\n",
              "        document.querySelector('#df-a8c05bed-fba9-4650-ad73-ff5f1004b378 button');\n",
              "      quickchartButtonEl.style.display =\n",
              "        google.colab.kernel.accessAllowed ? 'block' : 'none';\n",
              "    })();\n",
              "  </script>\n",
              "</div>\n",
              "    </div>\n",
              "  </div>\n"
            ],
            "text/plain": [
              "   user_id                                            item_id\n",
              "0   771376                              [817, 1217, 383, 471]\n",
              "1   771484                                   [1066, 454, 447]\n",
              "2   773470                                               [24]\n",
              "3   773560  [5, 138, 144, 4631, 549, 1708, 179, 184, 1208,...\n",
              "4   773561                                              [341]"
            ]
          },
          "execution_count": 23,
          "metadata": {},
          "output_type": "execute_result"
        }
      ],
      "source": [
        "cold_df = cold_df.groupby('user_id')['item_id'].agg(lambda x: list(set(x))).reset_index()\n",
        "cold_df.head()"
      ]
    },
    {
      "cell_type": "code",
      "execution_count": null,
      "metadata": {
        "id": "vFKMWkHgon2t"
      },
      "outputs": [],
      "source": [
        "popular_recommendations = {}\n",
        "\n",
        "precision_popular = []\n",
        "recall_popular = []\n",
        "\n",
        "for index, row in cold_df.iterrows():\n",
        "  # Произвольно сэмплируем k популярных товаров из 100 самых популярных\n",
        "  cur_rec = np.random.choice(val_pop_rec, k)\n",
        "\n",
        "  cur_precision = precision_k(row['item_id'], cur_rec, k)\n",
        "  cur_recall = recall_k(row['item_id'], cur_rec, k)\n",
        "\n",
        "  precision_popular.append(cur_precision)\n",
        "  recall_popular.append(cur_recall)"
      ]
    },
    {
      "cell_type": "code",
      "execution_count": null,
      "metadata": {
        "colab": {
          "base_uri": "https://localhost:8080/"
        },
        "id": "6rPvFCZkoEpQ",
        "outputId": "0d7c7f6e-3e48-4281-a251-dc7e88f02985"
      },
      "outputs": [
        {
          "name": "stdout",
          "output_type": "stream",
          "text": [
            "Precision@20: 0.00997182887379764, Recall@20: 0.07593476900490265\n"
          ]
        }
      ],
      "source": [
        "print(f'Precision@{k}: {np.mean(precision_popular)}, Recall@{k}: {np.mean(recall_popular)}')"
      ]
    },
    {
      "cell_type": "markdown",
      "metadata": {
        "id": "SLqJDeUJ4a8M"
      },
      "source": [
        "Показатели метрик низкие, как и стоило ожидать, но и не нулевые, что хорошо"
      ]
    },
    {
      "cell_type": "markdown",
      "source": [
        "# Task 5"
      ],
      "metadata": {
        "id": "bhRFSS6iRexO"
      }
    },
    {
      "cell_type": "markdown",
      "source": [
        "Попробуем обучить BSARec"
      ],
      "metadata": {
        "id": "abTrZ1-BIES1"
      }
    },
    {
      "cell_type": "code",
      "source": [
        "!git clone -q https://github.com/LuckyHorseshoe-chan/BSARec.git"
      ],
      "metadata": {
        "id": "3N9Bz1NORRD2",
        "colab": {
          "base_uri": "https://localhost:8080/"
        },
        "outputId": "6f44f46c-ee6c-41fb-c55c-71f84f1ae924"
      },
      "execution_count": null,
      "outputs": [
        {
          "output_type": "stream",
          "name": "stdout",
          "text": [
            "fatal: destination path 'BSARec' already exists and is not an empty directory.\n"
          ]
        }
      ]
    },
    {
      "cell_type": "code",
      "source": [
        "%cd /content/BSARec/src"
      ],
      "metadata": {
        "colab": {
          "base_uri": "https://localhost:8080/"
        },
        "id": "J_GxVMMpRV3S",
        "outputId": "682c80fb-e6be-43a2-e7a1-c1dc1ce90b20"
      },
      "execution_count": null,
      "outputs": [
        {
          "output_type": "stream",
          "name": "stdout",
          "text": [
            "/content/BSARec/src\n"
          ]
        }
      ]
    },
    {
      "cell_type": "code",
      "source": [
        "!python main.py  --data_name user_sequences \\\n",
        "                --lr 0.0005 \\\n",
        "                --alpha 0.7 \\\n",
        "                --c 5 \\\n",
        "                --num_attention_heads 1 \\\n",
        "                --train_name BSARec_user_sequences"
      ],
      "metadata": {
        "colab": {
          "base_uri": "https://localhost:8080/"
        },
        "id": "xXpCE0hSRX6y",
        "outputId": "5b2c1efe-8561-45d7-ceb7-b9769f6ba6e8"
      },
      "execution_count": null,
      "outputs": [
        {
          "output_type": "stream",
          "name": "stdout",
          "text": [
            "/usr/local/lib/python3.10/dist-packages/torch/utils/data/dataloader.py:558: UserWarning: This DataLoader will create 4 worker processes in total. Our suggested max number of worker in current system is 2, which is smaller than what this DataLoader is going to create. Please be aware that excessive worker creation might get DataLoader running slow or even freeze, lower the worker number to avoid potential slowness/freeze if necessary.\n",
            "  warnings.warn(_create_warning_msg(\n",
            "2024-05-20 09:36:49,585 - Namespace(data_dir='./data/', output_dir='output/', data_name='user_sequences', do_eval=False, load_model=None, train_name='BSARec_user_sequences', num_items=10, num_users=508697, lr=0.0005, batch_size=256, epochs=200, no_cuda=False, log_freq=1, patience=10, num_workers=4, seed=42, weight_decay=0.0, adam_beta1=0.9, adam_beta2=0.999, gpu_id='0', variance=5, model_type='BSARec', max_seq_length=50, hidden_size=64, num_hidden_layers=2, hidden_act='gelu', num_attention_heads=1, attention_probs_dropout_prob=0.5, hidden_dropout_prob=0.5, initializer_range=0.02, c=5, alpha=0.7, cuda_condition=True, checkpoint_path='output/BSARec_user_sequences.pt', same_target_path='./data/user_sequences_same_target.npy', data_file='./data/test_user_sequences.txt', item_size=5026)\n",
            "2024-05-20 09:36:49,585 - ./data/test_user_sequences.txt\n",
            "2024-05-20 09:36:49,659 - BSARecModel(\n",
            "  (item_embeddings): Embedding(5026, 64, padding_idx=0)\n",
            "  (position_embeddings): Embedding(50, 64)\n",
            "  (LayerNorm): LayerNorm()\n",
            "  (dropout): Dropout(p=0.5, inplace=False)\n",
            "  (item_encoder): BSARecEncoder(\n",
            "    (blocks): ModuleList(\n",
            "      (0-1): 2 x BSARecBlock(\n",
            "        (layer): BSARecLayer(\n",
            "          (filter_layer): FrequencyLayer(\n",
            "            (out_dropout): Dropout(p=0.5, inplace=False)\n",
            "            (LayerNorm): LayerNorm()\n",
            "          )\n",
            "          (attention_layer): MultiHeadAttention(\n",
            "            (query): Linear(in_features=64, out_features=64, bias=True)\n",
            "            (key): Linear(in_features=64, out_features=64, bias=True)\n",
            "            (value): Linear(in_features=64, out_features=64, bias=True)\n",
            "            (softmax): Softmax(dim=-1)\n",
            "            (attn_dropout): Dropout(p=0.5, inplace=False)\n",
            "            (dense): Linear(in_features=64, out_features=64, bias=True)\n",
            "            (LayerNorm): LayerNorm((64,), eps=1e-12, elementwise_affine=True)\n",
            "            (out_dropout): Dropout(p=0.5, inplace=False)\n",
            "          )\n",
            "        )\n",
            "        (feed_forward): FeedForward(\n",
            "          (dense_1): Linear(in_features=64, out_features=256, bias=True)\n",
            "          (dense_2): Linear(in_features=256, out_features=64, bias=True)\n",
            "          (LayerNorm): LayerNorm()\n",
            "          (dropout): Dropout(p=0.5, inplace=False)\n",
            "        )\n",
            "      )\n",
            "    )\n",
            "  )\n",
            ")\n",
            "2024-05-20 09:36:52,380 - Total Parameters: 425344\n",
            "/usr/local/lib/python3.10/dist-packages/torch/utils/data/dataloader.py:558: UserWarning: This DataLoader will create 4 worker processes in total. Our suggested max number of worker in current system is 2, which is smaller than what this DataLoader is going to create. Please be aware that excessive worker creation might get DataLoader running slow or even freeze, lower the worker number to avoid potential slowness/freeze if necessary.\n",
            "  warnings.warn(_create_warning_msg(\n",
            "/usr/lib/python3.10/multiprocessing/popen_fork.py:66: RuntimeWarning: os.fork() was called. os.fork() is incompatible with multithreaded code, and JAX is multithreaded, so this will likely lead to a deadlock.\n",
            "  self.pid = os.fork()\n",
            "Mode_train:0: 100% 7020/7020 [02:55<00:00, 39.99it/s]\n",
            "2024-05-20 09:39:48,275 - {'epoch': 0, 'rec_loss': '6.4658'}\n",
            "Mode_test:0: 100% 2928/2928 [02:40<00:00, 18.19it/s]\n",
            "2024-05-20 09:43:19,196 - {'Epoch': 0, 'HR@5': '0.1773', 'NDCG@5': '0.1308', 'HR@10': '0.2383', 'NDCG@10': '0.1505', 'HR@20': '0.3111', 'NDCG@20': '0.1688'}\n",
            "2024-05-20 09:43:19,200 - Validation score increased.  Saving model ...\n",
            "Mode_train:1: 100% 7020/7020 [02:56<00:00, 39.74it/s]\n",
            "2024-05-20 09:46:16,241 - {'epoch': 1, 'rec_loss': '6.2637'}\n",
            "Mode_test:1: 100% 2928/2928 [02:33<00:00, 19.13it/s]\n",
            "2024-05-20 09:49:40,239 - {'Epoch': 1, 'HR@5': '0.1858', 'NDCG@5': '0.1389', 'HR@10': '0.2459', 'NDCG@10': '0.1582', 'HR@20': '0.3171', 'NDCG@20': '0.1761'}\n",
            "2024-05-20 09:49:40,242 - Validation score increased.  Saving model ...\n",
            "Mode_train:2: 100% 7020/7020 [03:01<00:00, 38.72it/s]\n",
            "2024-05-20 09:52:41,800 - {'epoch': 2, 'rec_loss': '6.2139'}\n",
            "Mode_test:2: 100% 2928/2928 [02:31<00:00, 19.39it/s]\n",
            "2024-05-20 09:56:03,005 - {'Epoch': 2, 'HR@5': '0.1885', 'NDCG@5': '0.1408', 'HR@10': '0.2502', 'NDCG@10': '0.1607', 'HR@20': '0.3240', 'NDCG@20': '0.1793'}\n",
            "2024-05-20 09:56:03,007 - Validation score increased.  Saving model ...\n",
            "Mode_train:3: 100% 7020/7020 [02:59<00:00, 39.16it/s]\n",
            "2024-05-20 09:59:02,544 - {'epoch': 3, 'rec_loss': '6.1868'}\n",
            "Mode_test:3: 100% 2928/2928 [02:37<00:00, 18.62it/s]\n",
            "2024-05-20 10:02:28,462 - {'Epoch': 3, 'HR@5': '0.1910', 'NDCG@5': '0.1428', 'HR@10': '0.2529', 'NDCG@10': '0.1627', 'HR@20': '0.3272', 'NDCG@20': '0.1815'}\n",
            "2024-05-20 10:02:28,464 - Validation score increased.  Saving model ...\n",
            "Mode_train:4: 100% 7020/7020 [02:55<00:00, 39.90it/s]\n",
            "2024-05-20 10:05:24,638 - {'epoch': 4, 'rec_loss': '6.1694'}\n",
            "Mode_test:4: 100% 2928/2928 [02:34<00:00, 19.00it/s]\n",
            "2024-05-20 10:08:48,912 - {'Epoch': 4, 'HR@5': '0.1920', 'NDCG@5': '0.1438', 'HR@10': '0.2535', 'NDCG@10': '0.1636', 'HR@20': '0.3279', 'NDCG@20': '0.1823'}\n",
            "2024-05-20 10:08:48,915 - Validation score increased.  Saving model ...\n",
            "Mode_train:5: 100% 7020/7020 [02:56<00:00, 39.79it/s]\n",
            "2024-05-20 10:11:45,590 - {'epoch': 5, 'rec_loss': '6.1577'}\n",
            "Mode_test:5: 100% 2928/2928 [02:36<00:00, 18.74it/s]\n",
            "2024-05-20 10:15:11,397 - {'Epoch': 5, 'HR@5': '0.1925', 'NDCG@5': '0.1443', 'HR@10': '0.2543', 'NDCG@10': '0.1642', 'HR@20': '0.3303', 'NDCG@20': '0.1833'}\n",
            "2024-05-20 10:15:11,400 - Validation score increased.  Saving model ...\n",
            "Mode_train:6: 100% 7020/7020 [02:56<00:00, 39.71it/s]\n",
            "2024-05-20 10:18:08,447 - {'epoch': 6, 'rec_loss': '6.1482'}\n",
            "Mode_test:6: 100% 2928/2928 [02:34<00:00, 18.90it/s]\n",
            "2024-05-20 10:21:33,907 - {'Epoch': 6, 'HR@5': '0.1935', 'NDCG@5': '0.1450', 'HR@10': '0.2555', 'NDCG@10': '0.1650', 'HR@20': '0.3301', 'NDCG@20': '0.1838'}\n",
            "2024-05-20 10:21:33,910 - Validation score increased.  Saving model ...\n",
            "Mode_train:7: 100% 7020/7020 [02:55<00:00, 40.09it/s]\n",
            "2024-05-20 10:24:29,406 - {'epoch': 7, 'rec_loss': '6.1414'}\n",
            "Mode_test:7: 100% 2928/2928 [02:35<00:00, 18.81it/s]\n",
            "2024-05-20 10:27:53,480 - {'Epoch': 7, 'HR@5': '0.1937', 'NDCG@5': '0.1454', 'HR@10': '0.2561', 'NDCG@10': '0.1655', 'HR@20': '0.3310', 'NDCG@20': '0.1843'}\n",
            "2024-05-20 10:27:53,482 - Validation score increased.  Saving model ...\n",
            "Mode_train:8: 100% 7020/7020 [02:57<00:00, 39.50it/s]\n",
            "2024-05-20 10:30:51,465 - {'epoch': 8, 'rec_loss': '6.1360'}\n",
            "Mode_test:8: 100% 2928/2928 [02:36<00:00, 18.72it/s]\n",
            "2024-05-20 10:34:16,733 - {'Epoch': 8, 'HR@5': '0.1941', 'NDCG@5': '0.1454', 'HR@10': '0.2567', 'NDCG@10': '0.1656', 'HR@20': '0.3326', 'NDCG@20': '0.1847'}\n",
            "2024-05-20 10:34:16,736 - Validation score increased.  Saving model ...\n",
            "Mode_train:9: 100% 7020/7020 [02:56<00:00, 39.76it/s]\n",
            "2024-05-20 10:37:13,577 - {'epoch': 9, 'rec_loss': '6.1304'}\n",
            "Mode_test:9: 100% 2928/2928 [02:33<00:00, 19.10it/s]\n",
            "2024-05-20 10:40:36,051 - {'Epoch': 9, 'HR@5': '0.1941', 'NDCG@5': '0.1456', 'HR@10': '0.2566', 'NDCG@10': '0.1658', 'HR@20': '0.3325', 'NDCG@20': '0.1849'}\n",
            "2024-05-20 10:40:36,054 - Validation score increased.  Saving model ...\n",
            "Mode_train:10: 100% 7020/7020 [02:56<00:00, 39.77it/s]\n",
            "2024-05-20 10:43:32,863 - {'epoch': 10, 'rec_loss': '6.1266'}\n",
            "Mode_test:10: 100% 2928/2928 [02:35<00:00, 18.84it/s]\n",
            "2024-05-20 10:46:58,649 - {'Epoch': 10, 'HR@5': '0.1939', 'NDCG@5': '0.1453', 'HR@10': '0.2565', 'NDCG@10': '0.1655', 'HR@20': '0.3314', 'NDCG@20': '0.1843'}\n",
            "2024-05-20 10:46:58,652 - EarlyStopping counter: 1 out of 10\n",
            "Mode_train:11: 100% 7020/7020 [02:58<00:00, 39.32it/s]\n",
            "2024-05-20 10:49:57,462 - {'epoch': 11, 'rec_loss': '6.1223'}\n",
            "Mode_test:11: 100% 2928/2928 [02:33<00:00, 19.05it/s]\n",
            "2024-05-20 10:53:21,997 - {'Epoch': 11, 'HR@5': '0.1942', 'NDCG@5': '0.1459', 'HR@10': '0.2567', 'NDCG@10': '0.1661', 'HR@20': '0.3319', 'NDCG@20': '0.1850'}\n",
            "2024-05-20 10:53:22,000 - Validation score increased.  Saving model ...\n",
            "Mode_train:12: 100% 7020/7020 [02:58<00:00, 39.38it/s]\n",
            "2024-05-20 10:56:20,547 - {'epoch': 12, 'rec_loss': '6.1188'}\n",
            "Mode_test:12: 100% 2928/2928 [02:33<00:00, 19.05it/s]\n",
            "2024-05-20 10:59:43,298 - {'Epoch': 12, 'HR@5': '0.1943', 'NDCG@5': '0.1458', 'HR@10': '0.2568', 'NDCG@10': '0.1659', 'HR@20': '0.3321', 'NDCG@20': '0.1849'}\n",
            "2024-05-20 10:59:43,301 - EarlyStopping counter: 1 out of 10\n",
            "Mode_train:13: 100% 7020/7020 [03:00<00:00, 38.84it/s]\n",
            "2024-05-20 11:02:44,299 - {'epoch': 13, 'rec_loss': '6.1155'}\n",
            "Mode_test:13: 100% 2928/2928 [02:36<00:00, 18.73it/s]\n",
            "2024-05-20 11:06:10,928 - {'Epoch': 13, 'HR@5': '0.1945', 'NDCG@5': '0.1460', 'HR@10': '0.2569', 'NDCG@10': '0.1661', 'HR@20': '0.3323', 'NDCG@20': '0.1851'}\n",
            "2024-05-20 11:06:10,930 - Validation score increased.  Saving model ...\n",
            "Mode_train:14: 100% 7020/7020 [02:58<00:00, 39.33it/s]\n",
            "2024-05-20 11:09:09,702 - {'epoch': 14, 'rec_loss': '6.1137'}\n",
            "Mode_test:14: 100% 2928/2928 [02:33<00:00, 19.12it/s]\n",
            "2024-05-20 11:12:34,424 - {'Epoch': 14, 'HR@5': '0.1950', 'NDCG@5': '0.1461', 'HR@10': '0.2578', 'NDCG@10': '0.1664', 'HR@20': '0.3334', 'NDCG@20': '0.1854'}\n",
            "2024-05-20 11:12:34,427 - Validation score increased.  Saving model ...\n",
            "Mode_train:15: 100% 7020/7020 [02:56<00:00, 39.72it/s]\n",
            "2024-05-20 11:15:31,417 - {'epoch': 15, 'rec_loss': '6.1115'}\n",
            "Mode_test:15: 100% 2928/2928 [02:36<00:00, 18.65it/s]\n",
            "2024-05-20 11:19:00,227 - {'Epoch': 15, 'HR@5': '0.1951', 'NDCG@5': '0.1463', 'HR@10': '0.2577', 'NDCG@10': '0.1665', 'HR@20': '0.3331', 'NDCG@20': '0.1855'}\n",
            "2024-05-20 11:19:00,230 - Validation score increased.  Saving model ...\n",
            "Mode_train:16: 100% 7020/7020 [03:05<00:00, 37.84it/s]\n",
            "2024-05-20 11:22:06,027 - {'epoch': 16, 'rec_loss': '6.1094'}\n",
            "Mode_test:16: 100% 2928/2928 [02:34<00:00, 18.91it/s]\n",
            "2024-05-20 11:25:30,651 - {'Epoch': 16, 'HR@5': '0.1954', 'NDCG@5': '0.1464', 'HR@10': '0.2581', 'NDCG@10': '0.1666', 'HR@20': '0.3342', 'NDCG@20': '0.1858'}\n",
            "2024-05-20 11:25:30,655 - Validation score increased.  Saving model ...\n",
            "Mode_train:17: 100% 7020/7020 [03:00<00:00, 38.95it/s]\n",
            "2024-05-20 11:28:31,326 - {'epoch': 17, 'rec_loss': '6.1070'}\n",
            "Mode_test:17: 100% 2928/2928 [02:35<00:00, 18.83it/s]\n",
            "2024-05-20 11:31:59,530 - {'Epoch': 17, 'HR@5': '0.1953', 'NDCG@5': '0.1465', 'HR@10': '0.2583', 'NDCG@10': '0.1667', 'HR@20': '0.3346', 'NDCG@20': '0.1859'}\n",
            "2024-05-20 11:31:59,532 - Validation score increased.  Saving model ...\n",
            "Mode_train:18: 100% 7020/7020 [02:57<00:00, 39.49it/s]\n",
            "2024-05-20 11:34:57,570 - {'epoch': 18, 'rec_loss': '6.1064'}\n",
            "Mode_test:18: 100% 2928/2928 [02:38<00:00, 18.47it/s]\n",
            "2024-05-20 11:38:24,847 - {'Epoch': 18, 'HR@5': '0.1950', 'NDCG@5': '0.1463', 'HR@10': '0.2580', 'NDCG@10': '0.1665', 'HR@20': '0.3346', 'NDCG@20': '0.1858'}\n",
            "2024-05-20 11:38:24,849 - EarlyStopping counter: 1 out of 10\n",
            "Mode_train:19: 100% 7020/7020 [02:57<00:00, 39.48it/s]\n",
            "2024-05-20 11:41:22,932 - {'epoch': 19, 'rec_loss': '6.1042'}\n",
            "Mode_test:19: 100% 2928/2928 [02:33<00:00, 19.04it/s]\n",
            "2024-05-20 11:44:46,048 - {'Epoch': 19, 'HR@5': '0.1955', 'NDCG@5': '0.1466', 'HR@10': '0.2583', 'NDCG@10': '0.1668', 'HR@20': '0.3337', 'NDCG@20': '0.1858'}\n",
            "2024-05-20 11:44:46,050 - EarlyStopping counter: 2 out of 10\n",
            "Mode_train:20: 100% 7020/7020 [02:59<00:00, 39.05it/s]\n",
            "2024-05-20 11:47:46,063 - {'epoch': 20, 'rec_loss': '6.1026'}\n",
            "Mode_test:20: 100% 2928/2928 [02:34<00:00, 18.90it/s]\n",
            "2024-05-20 11:51:11,180 - {'Epoch': 20, 'HR@5': '0.1957', 'NDCG@5': '0.1467', 'HR@10': '0.2586', 'NDCG@10': '0.1669', 'HR@20': '0.3349', 'NDCG@20': '0.1861'}\n",
            "2024-05-20 11:51:11,183 - Validation score increased.  Saving model ...\n",
            "Mode_train:21: 100% 7020/7020 [02:58<00:00, 39.34it/s]\n",
            "2024-05-20 11:54:09,999 - {'epoch': 21, 'rec_loss': '6.1014'}\n",
            "Mode_test:21: 100% 2928/2928 [02:36<00:00, 18.67it/s]\n",
            "2024-05-20 11:57:37,167 - {'Epoch': 21, 'HR@5': '0.1956', 'NDCG@5': '0.1467', 'HR@10': '0.2582', 'NDCG@10': '0.1669', 'HR@20': '0.3349', 'NDCG@20': '0.1862'}\n",
            "2024-05-20 11:57:37,169 - Validation score increased.  Saving model ...\n",
            "Mode_train:22: 100% 7020/7020 [02:59<00:00, 39.19it/s]\n",
            "2024-05-20 12:00:36,568 - {'epoch': 22, 'rec_loss': '6.1009'}\n",
            "Mode_test:22: 100% 2928/2928 [02:38<00:00, 18.42it/s]\n",
            "2024-05-20 12:04:04,531 - {'Epoch': 22, 'HR@5': '0.1957', 'NDCG@5': '0.1468', 'HR@10': '0.2590', 'NDCG@10': '0.1672', 'HR@20': '0.3349', 'NDCG@20': '0.1863'}\n",
            "2024-05-20 12:04:04,534 - Validation score increased.  Saving model ...\n",
            "Mode_train:23: 100% 7020/7020 [02:55<00:00, 39.93it/s]\n",
            "2024-05-20 12:07:00,603 - {'epoch': 23, 'rec_loss': '6.1000'}\n",
            "Mode_test:23: 100% 2928/2928 [02:38<00:00, 18.47it/s]\n",
            "2024-05-20 12:10:28,045 - {'Epoch': 23, 'HR@5': '0.1956', 'NDCG@5': '0.1467', 'HR@10': '0.2589', 'NDCG@10': '0.1671', 'HR@20': '0.3354', 'NDCG@20': '0.1864'}\n",
            "2024-05-20 12:10:28,048 - Validation score increased.  Saving model ...\n",
            "Mode_train:24: 100% 7020/7020 [03:00<00:00, 38.98it/s]\n",
            "2024-05-20 12:13:28,561 - {'epoch': 24, 'rec_loss': '6.0982'}\n",
            "Mode_test:24: 100% 2928/2928 [02:37<00:00, 18.63it/s]\n",
            "2024-05-20 12:16:56,004 - {'Epoch': 24, 'HR@5': '0.1956', 'NDCG@5': '0.1466', 'HR@10': '0.2587', 'NDCG@10': '0.1670', 'HR@20': '0.3356', 'NDCG@20': '0.1863'}\n",
            "2024-05-20 12:16:56,006 - EarlyStopping counter: 1 out of 10\n",
            "Mode_train:25: 100% 7020/7020 [03:02<00:00, 38.40it/s]\n",
            "2024-05-20 12:19:59,086 - {'epoch': 25, 'rec_loss': '6.0970'}\n",
            "Mode_test:25: 100% 2928/2928 [02:38<00:00, 18.42it/s]\n",
            "2024-05-20 12:23:30,406 - {'Epoch': 25, 'HR@5': '0.1959', 'NDCG@5': '0.1468', 'HR@10': '0.2590', 'NDCG@10': '0.1671', 'HR@20': '0.3345', 'NDCG@20': '0.1862'}\n",
            "2024-05-20 12:23:30,409 - EarlyStopping counter: 2 out of 10\n",
            "Mode_train:26: 100% 7020/7020 [02:59<00:00, 39.21it/s]\n",
            "2024-05-20 12:26:29,708 - {'epoch': 26, 'rec_loss': '6.0966'}\n",
            "Mode_test:26: 100% 2928/2928 [02:40<00:00, 18.19it/s]\n",
            "2024-05-20 12:30:00,721 - {'Epoch': 26, 'HR@5': '0.1957', 'NDCG@5': '0.1466', 'HR@10': '0.2590', 'NDCG@10': '0.1670', 'HR@20': '0.3353', 'NDCG@20': '0.1862'}\n",
            "2024-05-20 12:30:00,724 - EarlyStopping counter: 3 out of 10\n",
            "Mode_train:27: 100% 7020/7020 [03:01<00:00, 38.64it/s]\n",
            "2024-05-20 12:33:02,760 - {'epoch': 27, 'rec_loss': '6.0953'}\n",
            "Mode_test:27: 100% 2928/2928 [02:36<00:00, 18.77it/s]\n",
            "2024-05-20 12:36:29,480 - {'Epoch': 27, 'HR@5': '0.1956', 'NDCG@5': '0.1467', 'HR@10': '0.2587', 'NDCG@10': '0.1670', 'HR@20': '0.3338', 'NDCG@20': '0.1859'}\n",
            "2024-05-20 12:36:29,482 - EarlyStopping counter: 4 out of 10\n",
            "Mode_train:28: 100% 7020/7020 [03:02<00:00, 38.48it/s]\n",
            "2024-05-20 12:39:32,177 - {'epoch': 28, 'rec_loss': '6.0942'}\n",
            "Mode_test:28:  57% 1670/2928 [01:09<01:28, 14.26it/s]"
          ]
        }
      ]
    },
    {
      "cell_type": "markdown",
      "source": [
        "Метрики изначально относительно неплохие, но за 30 эпох модель ничуть не обучилась, что нехорошо. Данное решение не подойдёт для улучшения бейзлайна"
      ],
      "metadata": {
        "id": "2hMgidVBIWDF"
      }
    },
    {
      "cell_type": "markdown",
      "source": [
        "Подберём гиперпараметры для BPR. Для ускорения процесса тестировать качество будем на валидационной выборке"
      ],
      "metadata": {
        "id": "4-Q-tga3I1Y2"
      }
    },
    {
      "cell_type": "code",
      "source": [
        "bpr = BPR(k=20, seed=123)\n",
        "Experiment(eval_method=bm, models=[bpr], metrics=metrics).run()"
      ],
      "metadata": {
        "colab": {
          "base_uri": "https://localhost:8080/"
        },
        "id": "MUv5QiwcpQ66",
        "outputId": "24a5f21e-b109-4a23-88c7-d4393f95eaca"
      },
      "execution_count": null,
      "outputs": [
        {
          "output_type": "stream",
          "name": "stdout",
          "text": [
            "\n",
            "TEST:\n",
            "...\n",
            "    | HitRatio@20 |    MAP | NDCG@20 | Precision@20 | Recall@20 | Train (s) |  Test (s)\n",
            "--- + ----------- + ------ + ------- + ------------ + --------- + --------- + ---------\n",
            "BPR |      0.5473 | 0.0879 |  0.1434 |       0.0534 |    0.2131 |  463.0999 | 1549.9049\n",
            "\n"
          ]
        }
      ]
    },
    {
      "cell_type": "code",
      "source": [
        "bpr = BPR(k=20, learning_rate=0.05, seed=123)\n",
        "Experiment(eval_method=bm, models=[bpr], metrics=metrics).run()"
      ],
      "metadata": {
        "colab": {
          "base_uri": "https://localhost:8080/"
        },
        "id": "6wTu5RWFSYhX",
        "outputId": "2996ffc1-8765-4ffc-de8c-cb8b8ebfe3eb"
      },
      "execution_count": null,
      "outputs": [
        {
          "output_type": "stream",
          "name": "stdout",
          "text": [
            "\n",
            "TEST:\n",
            "...\n",
            "    | HitRatio@20 |    MAP | NDCG@20 | Precision@20 | Recall@20 | Train (s) |  Test (s)\n",
            "--- + ----------- + ------ + ------- + ------------ + --------- + --------- + ---------\n",
            "BPR |      0.5612 | 0.0946 |  0.1500 |       0.0552 |    0.2232 |  495.4791 | 1554.4016\n",
            "\n"
          ]
        }
      ]
    },
    {
      "cell_type": "code",
      "source": [
        "bpr = BPR(k=20, learning_rate=0.01, seed=123)\n",
        "Experiment(eval_method=bm, models=[bpr], metrics=metrics).run()"
      ],
      "metadata": {
        "colab": {
          "base_uri": "https://localhost:8080/"
        },
        "id": "knlJvV_4SzNO",
        "outputId": "a0298d0b-22df-4870-941a-4bd6b82bab3f"
      },
      "execution_count": null,
      "outputs": [
        {
          "output_type": "stream",
          "name": "stdout",
          "text": [
            "\n",
            "TEST:\n",
            "...\n",
            "    | HitRatio@20 |    MAP | NDCG@20 | Precision@20 | Recall@20 | Train (s) |  Test (s)\n",
            "--- + ----------- + ------ + ------- + ------------ + --------- + --------- + ---------\n",
            "BPR |      0.5573 | 0.0903 |  0.1480 |       0.0555 |    0.2191 |  473.5401 | 1569.4845\n",
            "\n"
          ]
        }
      ]
    },
    {
      "cell_type": "code",
      "source": [
        "bpr = BPR(k=20, learning_rate=0.1, seed=123)\n",
        "Experiment(eval_method=bm, models=[bpr], metrics=metrics).run()"
      ],
      "metadata": {
        "colab": {
          "base_uri": "https://localhost:8080/"
        },
        "id": "RswLrhivSzhl",
        "outputId": "2c8725f3-9055-4e47-d7ad-ca417e9afd85"
      },
      "execution_count": null,
      "outputs": [
        {
          "output_type": "stream",
          "name": "stdout",
          "text": [
            "\n",
            "TEST:\n",
            "...\n",
            "    | HitRatio@20 |    MAP | NDCG@20 | Precision@20 | Recall@20 | Train (s) |  Test (s)\n",
            "--- + ----------- + ------ + ------- + ------------ + --------- + --------- + ---------\n",
            "BPR |      0.5393 | 0.0866 |  0.1377 |       0.0513 |    0.2091 |  469.1838 | 1591.2965\n",
            "\n"
          ]
        }
      ]
    },
    {
      "cell_type": "code",
      "source": [
        "bpr = BPR(k=20, learning_rate=0.05, lambda_reg=0.001, seed=123)\n",
        "Experiment(eval_method=bm, models=[bpr], metrics=metrics).run()"
      ],
      "metadata": {
        "colab": {
          "base_uri": "https://localhost:8080/"
        },
        "id": "v4ZD-moUUuz0",
        "outputId": "5b99151d-7f40-4f13-e960-86a59b0b7af2"
      },
      "execution_count": null,
      "outputs": [
        {
          "output_type": "stream",
          "name": "stdout",
          "text": [
            "\n",
            "TEST:\n",
            "...\n",
            "    | HitRatio@20 |    MAP | NDCG@20 | Precision@20 | Recall@20 | Train (s) |  Test (s)\n",
            "--- + ----------- + ------ + ------- + ------------ + --------- + --------- + ---------\n",
            "BPR |      0.5593 | 0.0933 |  0.1482 |       0.0538 |    0.2228 |  470.5128 | 1576.8489\n",
            "\n"
          ]
        }
      ]
    },
    {
      "cell_type": "code",
      "source": [
        "bpr = BPR(k=20, learning_rate=0.05, lambda_reg=0.1, seed=123)\n",
        "Experiment(eval_method=bm, models=[bpr], metrics=metrics).run()"
      ],
      "metadata": {
        "colab": {
          "base_uri": "https://localhost:8080/"
        },
        "id": "n2qNymG1UvZB",
        "outputId": "e6f76516-201e-446c-b03c-6d77e6c11035"
      },
      "execution_count": null,
      "outputs": [
        {
          "output_type": "stream",
          "name": "stdout",
          "text": [
            "\n",
            "TEST:\n",
            "...\n",
            "    | HitRatio@20 |    MAP | NDCG@20 | Precision@20 | Recall@20 | Train (s) |  Test (s)\n",
            "--- + ----------- + ------ + ------- + ------------ + --------- + --------- + ---------\n",
            "BPR |      0.5275 | 0.0717 |  0.1222 |       0.0494 |    0.1976 |  474.9377 | 1594.7675\n",
            "\n"
          ]
        }
      ]
    },
    {
      "cell_type": "code",
      "source": [
        "bpr = BPR(k=20, learning_rate=0.05, lambda_reg=0.05, seed=123)\n",
        "Experiment(eval_method=bm, models=[bpr], metrics=metrics).run()"
      ],
      "metadata": {
        "colab": {
          "base_uri": "https://localhost:8080/"
        },
        "id": "hoUsHJi2UwJa",
        "outputId": "95185cdb-530a-4e8b-ded6-fa1715f63572"
      },
      "execution_count": null,
      "outputs": [
        {
          "output_type": "stream",
          "name": "stdout",
          "text": [
            "\n",
            "TEST:\n",
            "...\n",
            "    | HitRatio@20 |    MAP | NDCG@20 | Precision@20 | Recall@20 | Train (s) |  Test (s)\n",
            "--- + ----------- + ------ + ------- + ------------ + --------- + --------- + ---------\n",
            "BPR |      0.5440 | 0.0812 |  0.1336 |       0.0517 |    0.2076 |  467.1473 | 1570.6540\n",
            "\n"
          ]
        }
      ]
    },
    {
      "cell_type": "markdown",
      "source": [
        "Науличшее качество получилось при learning_rate=0.05 и дефолтном значении lambda_reg=0.01. Попробуем ещё немного поиграться с параметрами на RandomSearch сетке."
      ],
      "metadata": {
        "id": "35zhjc7sJaO0"
      }
    },
    {
      "cell_type": "code",
      "source": [
        "from cornac.hyperopt import Discrete, Continuous\n",
        "from cornac.hyperopt import GridSearch, RandomSearch\n",
        "\n",
        "bpr = BPR(k=20, learning_rate=0.05, seed=123)\n",
        "hr = cn.metrics.HitRatio(k=20)\n",
        "\n",
        "# Random Search\n",
        "rs_bpr = RandomSearch(\n",
        "    model=bpr,\n",
        "    space=[\n",
        "        Continuous(name=\"learning_rate\", low=0.01, high=0.1),\n",
        "        Continuous(name=\"lambda_reg\", low=0.001, high=0.01)\n",
        "    ],\n",
        "    metric=hr,\n",
        "    eval_method=bm,\n",
        "    n_trails=5,\n",
        ")"
      ],
      "metadata": {
        "id": "EZ4Wb4n_B4iZ"
      },
      "execution_count": null,
      "outputs": []
    },
    {
      "cell_type": "code",
      "source": [
        "cn.Experiment(\n",
        "    eval_method=bm,\n",
        "    models=[rs_bpr],\n",
        "    metrics=[hr]\n",
        ").run()"
      ],
      "metadata": {
        "colab": {
          "base_uri": "https://localhost:8080/"
        },
        "id": "wSKq_el0CEyV",
        "outputId": "7217ff62-10f0-4480-d02b-e99612bb480a"
      },
      "execution_count": null,
      "outputs": [
        {
          "output_type": "stream",
          "name": "stdout",
          "text": [
            "\n",
            "VALIDATION:\n",
            "...\n",
            "                 | HitRatio@20 | Time (s)\n",
            "---------------- + ----------- + --------\n",
            "RandomSearch_BPR |      0.5678 | 604.9820\n",
            "\n",
            "TEST:\n",
            "...\n",
            "                 | HitRatio@20 | Train (s) | Test (s)\n",
            "---------------- + ----------- + --------- + --------\n",
            "RandomSearch_BPR |      0.4805 | 5415.4855 | 500.3786\n",
            "\n"
          ]
        }
      ]
    },
    {
      "cell_type": "code",
      "source": [
        "rs_bpr.best_params"
      ],
      "metadata": {
        "colab": {
          "base_uri": "https://localhost:8080/"
        },
        "id": "h3OIWo2XgHX0",
        "outputId": "b3b15a3b-5316-44cd-8429-0796d430286b"
      },
      "execution_count": null,
      "outputs": [
        {
          "output_type": "execute_result",
          "data": {
            "text/plain": [
              "{'lambda_reg': 0.007268222670380756, 'learning_rate': 0.035752540145534153}"
            ]
          },
          "metadata": {},
          "execution_count": 19
        }
      ]
    },
    {
      "cell_type": "markdown",
      "source": [
        "HR получилось немного выше (в доле тысячных), будем использовать эти параметры"
      ],
      "metadata": {
        "id": "RB4O8mbxN-4F"
      }
    },
    {
      "cell_type": "code",
      "source": [
        "bpr = BPR(k=20, lambda_reg=0.0073, learning_rate=0.0358, seed=123)\n",
        "Experiment(eval_method=bm, models=[bpr], metrics=metrics, save_dir='/content/saved_models').run()"
      ],
      "metadata": {
        "colab": {
          "base_uri": "https://localhost:8080/"
        },
        "outputId": "71438bb4-6cfa-4994-a0e2-a7ca1b5a2a3b",
        "id": "qY2IKr6dN5EC"
      },
      "execution_count": null,
      "outputs": [
        {
          "output_type": "stream",
          "name": "stdout",
          "text": [
            "\n",
            "VALIDATION:\n",
            "...\n",
            "    | HitRatio@20 |    MAP | NDCG@20 | Precision@20 | Recall@20 |  Time (s)\n",
            "--- + ----------- + ------ + ------- + ------------ + --------- + ---------\n",
            "BPR |      0.5677 | 0.0970 |  0.1536 |       0.0561 |    0.2269 | 1814.0369\n",
            "\n",
            "TEST:\n",
            "...\n",
            "    | HitRatio@20 |    MAP | NDCG@20 | Precision@20 | Recall@20 | Train (s) |  Test (s)\n",
            "--- + ----------- + ------ + ------- + ------------ + --------- + --------- + ---------\n",
            "BPR |      0.4805 | 0.0905 |  0.1412 |       0.0398 |    0.2301 |  596.2820 | 1391.5113\n",
            "\n"
          ]
        }
      ]
    },
    {
      "cell_type": "markdown",
      "source": [
        "Подберём гиперпараметры для PMF"
      ],
      "metadata": {
        "id": "hpXaKOESKZsh"
      }
    },
    {
      "cell_type": "code",
      "source": [
        "from cornac.hyperopt import Discrete, Continuous\n",
        "from cornac.hyperopt import GridSearch, RandomSearch\n",
        "\n",
        "pmf = PMF(k=20, seed=123)\n",
        "hr = cn.metrics.HitRatio(k=20)\n",
        "\n",
        "# Random Search\n",
        "rs_pmf = RandomSearch(\n",
        "    model=pmf,\n",
        "    space=[\n",
        "        Continuous(name=\"learning_rate\", low=0.01, high=0.1),\n",
        "        Continuous(name=\"lambda_reg\", low=0.001, high=0.1)\n",
        "    ],\n",
        "    metric=hr,\n",
        "    eval_method=bm,\n",
        "    n_trails=5,\n",
        ")"
      ],
      "metadata": {
        "id": "5LWavw0-YxWT"
      },
      "execution_count": null,
      "outputs": []
    },
    {
      "cell_type": "code",
      "source": [
        "cn.Experiment(\n",
        "    eval_method=bm,\n",
        "    models=[rs_pmf],\n",
        "    metrics=[hr]\n",
        ").run()"
      ],
      "metadata": {
        "colab": {
          "base_uri": "https://localhost:8080/"
        },
        "id": "3hOcaH5AZC8-",
        "outputId": "62372680-82b8-4ad0-9c65-0d71dce91a38"
      },
      "execution_count": null,
      "outputs": [
        {
          "output_type": "stream",
          "name": "stdout",
          "text": [
            "\n",
            "VALIDATION:\n",
            "...\n",
            "                 | HitRatio@20 | Time (s)\n",
            "---------------- + ----------- + --------\n",
            "RandomSearch_PMF |      0.0150 | 764.7602\n",
            "\n",
            "TEST:\n",
            "...\n",
            "                 | HitRatio@20 | Train (s) | Test (s)\n",
            "---------------- + ----------- + --------- + --------\n",
            "RandomSearch_PMF |      0.0106 | 8673.3622 | 626.7428\n",
            "\n"
          ]
        }
      ]
    },
    {
      "cell_type": "markdown",
      "source": [
        "Рандомная сетка дала плохие показатели, потестим вручную разные значения learning_rate"
      ],
      "metadata": {
        "id": "D1qIGDcMK-1M"
      }
    },
    {
      "cell_type": "code",
      "source": [
        "pmf = PMF(k=20, seed=123)\n",
        "Experiment(eval_method=bm, models=[pmf], metrics=metrics).run()"
      ],
      "metadata": {
        "id": "ZcLuC9kSIJkJ",
        "colab": {
          "base_uri": "https://localhost:8080/"
        },
        "outputId": "810301ac-3577-4f09-bb09-cac39e25101d"
      },
      "execution_count": null,
      "outputs": [
        {
          "output_type": "stream",
          "name": "stdout",
          "text": [
            "\n",
            "VALIDATION:\n",
            "...\n",
            "    | HitRatio@20 |    MAP | NDCG@20 | Precision@20 | Recall@20 |  Time (s)\n",
            "--- + ----------- + ------ + ------- + ------------ + --------- + ---------\n",
            "PMF |      0.4840 | 0.0658 |  0.1088 |       0.0398 |    0.1708 | 1942.8851\n",
            "\n",
            "TEST:\n",
            "...\n",
            "    | HitRatio@20 |    MAP | NDCG@20 | Precision@20 | Recall@20 | Train (s) |  Test (s)\n",
            "--- + ----------- + ------ + ------- + ------------ + --------- + --------- + ---------\n",
            "PMF |      0.3954 | 0.0594 |  0.0972 |       0.0283 |    0.1734 |  949.2011 | 1464.7798\n",
            "\n"
          ]
        }
      ]
    },
    {
      "cell_type": "code",
      "source": [
        "pmf = PMF(k=20, learning_rate=0.005, seed=123)\n",
        "Experiment(eval_method=bm, models=[pmf], metrics=metrics).run()"
      ],
      "metadata": {
        "id": "_xw0uKzgrJKB",
        "colab": {
          "base_uri": "https://localhost:8080/"
        },
        "outputId": "7a897862-9286-4f01-a173-f93d87176b79"
      },
      "execution_count": null,
      "outputs": [
        {
          "output_type": "stream",
          "name": "stdout",
          "text": [
            "\n",
            "TEST:\n",
            "...\n",
            "    | HitRatio@20 |    MAP | NDCG@20 | Precision@20 | Recall@20 | Train (s) |  Test (s)\n",
            "--- + ----------- + ------ + ------- + ------------ + --------- + --------- + ---------\n",
            "PMF |      0.3184 | 0.0312 |  0.0507 |       0.0207 |    0.0899 |  931.2264 | 1939.2056\n",
            "\n"
          ]
        }
      ]
    },
    {
      "cell_type": "code",
      "source": [
        "pmf = PMF(k=20, learning_rate=0.0005, seed=123)\n",
        "Experiment(eval_method=bm, models=[pmf], metrics=metrics, save_dir='/content/saved_models').run()"
      ],
      "metadata": {
        "colab": {
          "base_uri": "https://localhost:8080/"
        },
        "id": "tnOdeD1wmyjq",
        "outputId": "5034e5ce-a248-4a4f-aa57-9b6a8514625f"
      },
      "execution_count": null,
      "outputs": [
        {
          "output_type": "stream",
          "name": "stdout",
          "text": [
            "\n",
            "VALIDATION:\n",
            "...\n",
            "    | HitRatio@20 |    MAP | NDCG@20 | Precision@20 | Recall@20 |  Time (s)\n",
            "--- + ----------- + ------ + ------- + ------------ + --------- + ---------\n",
            "PMF |      0.5131 | 0.0713 |  0.1206 |       0.0449 |    0.1898 | 1621.5927\n",
            "\n",
            "TEST:\n",
            "...\n",
            "    | HitRatio@20 |    MAP | NDCG@20 | Precision@20 | Recall@20 | Train (s) |  Test (s)\n",
            "--- + ----------- + ------ + ------- + ------------ + --------- + --------- + ---------\n",
            "PMF |      0.4255 | 0.0648 |  0.1086 |       0.0320 |    0.1932 |  822.3540 | 1262.4644\n",
            "\n"
          ]
        }
      ]
    },
    {
      "cell_type": "code",
      "source": [
        "pmf = PMF(k=20, learning_rate=0.05, seed=123)\n",
        "Experiment(eval_method=bm, models=[pmf], metrics=metrics).run()"
      ],
      "metadata": {
        "colab": {
          "base_uri": "https://localhost:8080/"
        },
        "id": "i2mnq1CjH85W",
        "outputId": "70f944e3-b6dd-4526-ed25-784a9ea2275b"
      },
      "execution_count": null,
      "outputs": [
        {
          "output_type": "stream",
          "name": "stdout",
          "text": [
            "\n",
            "TEST:\n",
            "...\n",
            "    | HitRatio@20 |    MAP | NDCG@20 | Precision@20 | Recall@20 | Train (s) |  Test (s)\n",
            "--- + ----------- + ------ + ------- + ------------ + --------- + --------- + ---------\n",
            "PMF |      0.0048 | 0.0019 |  0.0009 |       0.0002 |    0.0013 |  989.4950 | 2125.0852\n",
            "\n"
          ]
        }
      ]
    },
    {
      "cell_type": "code",
      "source": [
        "pmf = PMF(k=20, learning_rate=0.01, seed=123)\n",
        "Experiment(eval_method=bm, models=[pmf], metrics=metrics).run()"
      ],
      "metadata": {
        "colab": {
          "base_uri": "https://localhost:8080/"
        },
        "id": "DbP8NKFTIBW7",
        "outputId": "d82649e8-7476-41cb-9578-be062cb8651b"
      },
      "execution_count": null,
      "outputs": [
        {
          "output_type": "stream",
          "name": "stdout",
          "text": [
            "\n",
            "TEST:\n",
            "...\n",
            "    | HitRatio@20 |    MAP | NDCG@20 | Precision@20 | Recall@20 | Train (s) |  Test (s)\n",
            "--- + ----------- + ------ + ------- + ------------ + --------- + --------- + ---------\n",
            "PMF |      0.4377 | 0.0485 |  0.0881 |       0.0331 |    0.1432 |  974.2437 | 2093.5363\n",
            "\n"
          ]
        }
      ]
    },
    {
      "cell_type": "code",
      "source": [
        "pmf = PMF(k=20, learning_rate=0.1, seed=123)\n",
        "Experiment(eval_method=bm, models=[pmf], metrics=metrics).run()"
      ],
      "metadata": {
        "colab": {
          "base_uri": "https://localhost:8080/"
        },
        "id": "yI_EC7JhIEPS",
        "outputId": "1de677dd-0bfc-44f8-9c37-7a0c57ade2f6"
      },
      "execution_count": null,
      "outputs": [
        {
          "output_type": "stream",
          "name": "stdout",
          "text": [
            "\n",
            "TEST:\n",
            "...\n",
            "    | HitRatio@20 |    MAP | NDCG@20 | Precision@20 | Recall@20 | Train (s) |  Test (s)\n",
            "--- + ----------- + ------ + ------- + ------------ + --------- + --------- + ---------\n",
            "PMF |      0.0036 | 0.0014 |  0.0005 |       0.0002 |    0.0009 |  969.8029 | 2123.7696\n",
            "\n"
          ]
        }
      ]
    },
    {
      "cell_type": "markdown",
      "source": [
        "Наилучшим качество метрик получилось при learning_rate=0.0005. Поиграемся с lambda_reg на рандомной сетке."
      ],
      "metadata": {
        "id": "06agLyubLizn"
      }
    },
    {
      "cell_type": "code",
      "source": [
        "from cornac.hyperopt import Discrete, Continuous\n",
        "from cornac.hyperopt import GridSearch, RandomSearch\n",
        "\n",
        "pmf = PMF(k=20, seed=123)\n",
        "hr = cn.metrics.HitRatio(k=20)\n",
        "\n",
        "# Random Search\n",
        "rs_pmf = RandomSearch(\n",
        "    model=pmf,\n",
        "    space=[\n",
        "        Continuous(name=\"lambda_reg\", low=0.001, high=0.1)\n",
        "    ],\n",
        "    metric=hr,\n",
        "    eval_method=bm,\n",
        "    n_trails=5,\n",
        ")"
      ],
      "metadata": {
        "id": "N_ipYC5w3RzC"
      },
      "execution_count": null,
      "outputs": []
    },
    {
      "cell_type": "code",
      "source": [
        "cn.Experiment(\n",
        "    eval_method=bm,\n",
        "    models=[rs_pmf],\n",
        "    metrics=[hr]\n",
        ").run()"
      ],
      "metadata": {
        "colab": {
          "base_uri": "https://localhost:8080/"
        },
        "id": "00hVR59F3WxG",
        "outputId": "ecd73476-586c-46ba-dea5-095c96d3673b"
      },
      "execution_count": null,
      "outputs": [
        {
          "output_type": "stream",
          "name": "stdout",
          "text": [
            "\n",
            "VALIDATION:\n",
            "...\n",
            "                 | HitRatio@20 | Time (s)\n",
            "---------------- + ----------- + --------\n",
            "RandomSearch_PMF |      0.4092 | 673.3587\n",
            "\n",
            "TEST:\n",
            "...\n",
            "                 | HitRatio@20 | Train (s) | Test (s)\n",
            "---------------- + ----------- + --------- + --------\n",
            "RandomSearch_PMF |      0.3257 | 8021.7246 | 562.3227\n",
            "\n"
          ]
        }
      ]
    },
    {
      "cell_type": "markdown",
      "source": [
        "Показатели не улучшились, так что будем использовать learning_rate=0.0005 и дефолтный lambda_reg=0.001"
      ],
      "metadata": {
        "id": "kh59J7s1L6dl"
      }
    },
    {
      "cell_type": "markdown",
      "source": [
        "Возьмём код из cornac и объединим модели по формуле $score = \\lambda \\cdot score_{bpr} + (1 - \\lambda) \\cdot score_{pmf}$"
      ],
      "metadata": {
        "id": "sgkgSYcHP0KH"
      }
    },
    {
      "cell_type": "code",
      "source": [
        "def rank(model1, model2, user_idx, item_indices, k=-1, **kwargs):\n",
        "        \"\"\"Rank all test items for a given user.\n",
        "\n",
        "        Parameters\n",
        "        ----------\n",
        "        user_idx: int, required\n",
        "            The index of the user for whom to perform item raking.\n",
        "\n",
        "        item_indices: 1d array, optional, default: None\n",
        "            A list of candidate item indices to be ranked by the user.\n",
        "            If `None`, list of ranked known item indices and their scores will be returned.\n",
        "\n",
        "        k: int, required\n",
        "            Cut-off length for recommendations, k=-1 will return ranked list of all items.\n",
        "            This is more important for ANN to know the limit to avoid exhaustive ranking.\n",
        "\n",
        "        Returns\n",
        "        -------\n",
        "        (ranked_items, item_scores): tuple\n",
        "            `ranked_items` contains item indices being ranked by their scores.\n",
        "            `item_scores` contains scores of items corresponding to index in `item_indices` input.\n",
        "\n",
        "        \"\"\"\n",
        "        # obtain item scores from the model\n",
        "        try:\n",
        "            all_item_scores1 = model1.score(user_idx, **kwargs)\n",
        "            all_item_scores2 = model2.score(user_idx, **kwargs)\n",
        "            all_item_scores = 0.9 * all_item_scores1 + 0.1 * all_item_scores2\n",
        "        except:\n",
        "            all_item_scores = np.ones(model1.total_items) * model1.default_score()\n",
        "\n",
        "        item_scores = all_item_scores[item_indices]\n",
        "\n",
        "        if k != -1:  # O(n + k log k), faster for small k which is usually the case\n",
        "            partitioned_idx = np.argpartition(item_scores, -k)\n",
        "            top_k_idx = partitioned_idx[-k:]\n",
        "            sorted_top_k_idx = top_k_idx[np.argsort(item_scores[top_k_idx])]\n",
        "            partitioned_idx[-k:] = sorted_top_k_idx\n",
        "            ranked_items = item_indices[partitioned_idx[::-1]]\n",
        "        else:  # O(n log n)\n",
        "            ranked_items = item_indices[item_scores.argsort()[::-1]]\n",
        "\n",
        "        return ranked_items, item_scores"
      ],
      "metadata": {
        "id": "qRWlcBgASMeN"
      },
      "execution_count": 6,
      "outputs": []
    },
    {
      "cell_type": "code",
      "source": [
        "def ranking_eval(\n",
        "    model1,\n",
        "    model2,\n",
        "    metrics,\n",
        "    train_set,\n",
        "    test_set,\n",
        "    val_set=None,\n",
        "    rating_threshold=1.0,\n",
        "    exclude_unknowns=True,\n",
        "    verbose=False,\n",
        "):\n",
        "    \"\"\"Evaluate model on provided ranking metrics.\n",
        "\n",
        "    Parameters\n",
        "    ----------\n",
        "    model: :obj:`cornac.models.Recommender`, required\n",
        "        Recommender model to be evaluated.\n",
        "\n",
        "    metrics: :obj:`iterable`, required\n",
        "        List of rating metrics :obj:`cornac.metrics.RankingMetric`.\n",
        "\n",
        "    train_set: :obj:`cornac.data.Dataset`, required\n",
        "        Dataset to be used for model training. This will be used to exclude\n",
        "        observations already appeared during training.\n",
        "\n",
        "    test_set: :obj:`cornac.data.Dataset`, required\n",
        "        Dataset to be used for evaluation.\n",
        "\n",
        "    val_set: :obj:`cornac.data.Dataset`, optional, default: None\n",
        "        Dataset to be used for model selection. This will be used to exclude\n",
        "        observations already appeared during validation.\n",
        "\n",
        "    rating_threshold: float, optional, default: 1.0\n",
        "        The threshold to convert ratings into positive or negative feedback.\n",
        "\n",
        "    exclude_unknowns: bool, optional, default: True\n",
        "        Ignore unknown users and items during evaluation.\n",
        "\n",
        "    verbose: bool, optional, default: False\n",
        "        Output evaluation progress.\n",
        "\n",
        "    Returns\n",
        "    -------\n",
        "    res: (List, List)\n",
        "        Tuple of two lists:\n",
        "         - average result for each of the metrics\n",
        "         - average result per user for each of the metrics\n",
        "\n",
        "    \"\"\"\n",
        "\n",
        "    if len(metrics) == 0:\n",
        "        return [], []\n",
        "\n",
        "    max_k = max(m.k for m in metrics)\n",
        "\n",
        "    avg_results = []\n",
        "    user_results = [{} for _ in enumerate(metrics)]\n",
        "\n",
        "    test_mat = test_set.csr_matrix\n",
        "    train_mat = train_set.csr_matrix\n",
        "    val_mat = None if val_set is None else val_set.csr_matrix\n",
        "\n",
        "    def pos_items(csr_row):\n",
        "        return [\n",
        "            item_idx\n",
        "            for (item_idx, rating) in zip(csr_row.indices, csr_row.data)\n",
        "            if rating >= rating_threshold\n",
        "        ]\n",
        "\n",
        "    test_user_indices = set(test_set.uir_tuple[0])\n",
        "    for user_idx in tqdm(\n",
        "        test_user_indices, desc=\"Ranking\", disable=not verbose, miniters=100\n",
        "    ):\n",
        "        test_pos_items = pos_items(test_mat.getrow(user_idx))\n",
        "        if len(test_pos_items) == 0:\n",
        "            continue\n",
        "\n",
        "        # binary mask for ground-truth positive items\n",
        "        u_gt_pos_mask = np.zeros(test_set.num_items, dtype=\"int\")\n",
        "        u_gt_pos_mask[test_pos_items] = 1\n",
        "\n",
        "        val_pos_items = [] if val_mat is None else pos_items(val_mat.getrow(user_idx))\n",
        "        train_pos_items = (\n",
        "            pos_items(train_mat.getrow(user_idx))\n",
        "            if user_idx < train_mat.shape[0]\n",
        "            else []\n",
        "        )\n",
        "\n",
        "        # binary mask for ground-truth negative items, removing all positive items\n",
        "        u_gt_neg_mask = np.ones(test_set.num_items, dtype=\"int\")\n",
        "        u_gt_neg_mask[test_pos_items + val_pos_items + train_pos_items] = 0\n",
        "\n",
        "        # filter items being considered for evaluation\n",
        "        if exclude_unknowns:\n",
        "            u_gt_pos_mask = u_gt_pos_mask[: train_set.num_items]\n",
        "            u_gt_neg_mask = u_gt_neg_mask[: train_set.num_items]\n",
        "\n",
        "        item_indices = np.nonzero(u_gt_pos_mask + u_gt_neg_mask)[0]\n",
        "        u_gt_pos_items = np.nonzero(u_gt_pos_mask)[0]\n",
        "        u_gt_neg_items = np.nonzero(u_gt_neg_mask)[0]\n",
        "\n",
        "        item_rank, item_scores = rank(\n",
        "            model1, model2, user_idx=user_idx, item_indices=item_indices, k=max_k\n",
        "        )\n",
        "\n",
        "        for i, mt in enumerate(metrics):\n",
        "            mt_score = mt.compute(\n",
        "                gt_pos=u_gt_pos_items,\n",
        "                gt_neg=u_gt_neg_items,\n",
        "                pd_rank=item_rank,\n",
        "                pd_scores=item_scores,\n",
        "                item_indices=item_indices,\n",
        "            )\n",
        "            user_results[i][user_idx] = mt_score\n",
        "\n",
        "    # avg results of ranking metrics\n",
        "    for i, mt in enumerate(metrics):\n",
        "        avg_results.append(sum(user_results[i].values()) / len(user_results[i]))\n",
        "\n",
        "    return avg_results, user_results"
      ],
      "metadata": {
        "id": "rzwo2kqX1_1u"
      },
      "execution_count": null,
      "outputs": []
    },
    {
      "cell_type": "markdown",
      "source": [
        "Поэкспериментируем с разными значениями lamdda"
      ],
      "metadata": {
        "id": "03x47L5yQx41"
      }
    },
    {
      "cell_type": "code",
      "source": [
        "from collections import OrderedDict\n",
        "\n",
        "# lamdda = 0.5\n",
        "\n",
        "bpr = BPR.load(\"saved_models/BPR/\")\n",
        "pmf = PMF.load(\"saved_models/PMF/\")\n",
        "avg_results, user_results = ranking_eval(\n",
        "    bpr,\n",
        "    pmf,\n",
        "    metrics,\n",
        "    train_dataset,\n",
        "    test_dataset,\n",
        "    val_dataset,\n",
        "    rating_threshold=0.5,\n",
        "    exclude_unknowns=True,\n",
        "    verbose=False,\n",
        ")\n",
        "metric_avg_results = OrderedDict()\n",
        "metric_user_results = OrderedDict()\n",
        "for i, mt in enumerate(metrics):\n",
        "  metric_avg_results[mt.name] = avg_results[i]\n",
        "  metric_user_results[mt.name] = user_results[i]\n",
        "metric_avg_results"
      ],
      "metadata": {
        "colab": {
          "base_uri": "https://localhost:8080/"
        },
        "id": "g5_nf7lp5Fn3",
        "outputId": "8ee65834-6234-4d3f-d036-89edb6173590"
      },
      "execution_count": null,
      "outputs": [
        {
          "output_type": "execute_result",
          "data": {
            "text/plain": [
              "OrderedDict([('Precision@20', 0.036820791844880095),\n",
              "             ('Recall@20', 0.21803919593366988),\n",
              "             ('NDCG@20', 0.12943697007593605),\n",
              "             ('HitRatio@20', 0.46710897008537816),\n",
              "             ('MAP', 0.08166661930321538)])"
            ]
          },
          "metadata": {},
          "execution_count": 39
        }
      ]
    },
    {
      "cell_type": "code",
      "source": [
        "from collections import OrderedDict\n",
        "\n",
        "# lamdda = 0.7\n",
        "\n",
        "bpr = BPR.load(\"/content/drive/MyDrive/saved_models/BPR/\")\n",
        "pmf = PMF.load(\"/content/drive/MyDrive/saved_models/PMF/\")\n",
        "avg_results, user_results = ranking_eval(\n",
        "    bpr,\n",
        "    pmf,\n",
        "    metrics,\n",
        "    train_dataset,\n",
        "    test_dataset,\n",
        "    val_dataset,\n",
        "    rating_threshold=0.5,\n",
        "    exclude_unknowns=True,\n",
        "    verbose=False,\n",
        ")\n",
        "metric_avg_results = OrderedDict()\n",
        "metric_user_results = OrderedDict()\n",
        "for i, mt in enumerate(metrics):\n",
        "  metric_avg_results[mt.name] = avg_results[i]\n",
        "  metric_user_results[mt.name] = user_results[i]\n",
        "metric_avg_results"
      ],
      "metadata": {
        "colab": {
          "base_uri": "https://localhost:8080/"
        },
        "id": "SnhvozSH6X3X",
        "outputId": "2d161b84-7030-4201-fef8-c5fc14c83ffd"
      },
      "execution_count": null,
      "outputs": [
        {
          "output_type": "execute_result",
          "data": {
            "text/plain": [
              "OrderedDict([('Precision@20', 0.04004193638560071),\n",
              "             ('Recall@20', 0.23424738886463292),\n",
              "             ('NDCG@20', 0.14335617839364692),\n",
              "             ('HitRatio@20', 0.491264328265124),\n",
              "             ('MAP', 0.09118997880649016)])"
            ]
          },
          "metadata": {},
          "execution_count": 23
        }
      ]
    },
    {
      "cell_type": "code",
      "source": [
        "from collections import OrderedDict\n",
        "\n",
        "# lamdda = 0.8\n",
        "\n",
        "bpr = BPR.load(\"/content/drive/MyDrive/saved_models/BPR/\")\n",
        "pmf = PMF.load(\"/content/drive/MyDrive/saved_models/PMF/\")\n",
        "avg_results, user_results = ranking_eval(\n",
        "    bpr,\n",
        "    pmf,\n",
        "    metrics,\n",
        "    train_dataset,\n",
        "    test_dataset,\n",
        "    val_dataset,\n",
        "    rating_threshold=0.5,\n",
        "    exclude_unknowns=True,\n",
        "    verbose=False,\n",
        ")\n",
        "metric_avg_results = OrderedDict()\n",
        "metric_user_results = OrderedDict()\n",
        "for i, mt in enumerate(metrics):\n",
        "  metric_avg_results[mt.name] = avg_results[i]\n",
        "  metric_user_results[mt.name] = user_results[i]\n",
        "metric_avg_results"
      ],
      "metadata": {
        "colab": {
          "base_uri": "https://localhost:8080/"
        },
        "id": "Z9GTlAaUnJpj",
        "outputId": "5ca46585-d5a3-4e72-d84f-83070f82fce6"
      },
      "execution_count": null,
      "outputs": [
        {
          "output_type": "execute_result",
          "data": {
            "text/plain": [
              "OrderedDict([('Precision@20', 0.040887653497791804),\n",
              "             ('Recall@20', 0.23744733179916816),\n",
              "             ('NDCG@20', 0.1475151361357626),\n",
              "             ('HitRatio@20', 0.4948149422568227),\n",
              "             ('MAP', 0.09437564165201619)])"
            ]
          },
          "metadata": {},
          "execution_count": 26
        }
      ]
    },
    {
      "cell_type": "code",
      "source": [
        "from collections import OrderedDict\n",
        "\n",
        "# lamdda = 0.9\n",
        "\n",
        "bpr = BPR.load(\"/content/drive/MyDrive/saved_models/BPR/\")\n",
        "pmf = PMF.load(\"/content/drive/MyDrive/saved_models/PMF/\")\n",
        "avg_results, user_results = ranking_eval(\n",
        "    bpr,\n",
        "    pmf,\n",
        "    metrics,\n",
        "    train_dataset,\n",
        "    test_dataset,\n",
        "    val_dataset,\n",
        "    rating_threshold=0.5,\n",
        "    exclude_unknowns=True,\n",
        "    verbose=False,\n",
        ")\n",
        "metric_avg_results = OrderedDict()\n",
        "metric_user_results = OrderedDict()\n",
        "for i, mt in enumerate(metrics):\n",
        "  metric_avg_results[mt.name] = avg_results[i]\n",
        "  metric_user_results[mt.name] = user_results[i]\n",
        "metric_avg_results"
      ],
      "metadata": {
        "colab": {
          "base_uri": "https://localhost:8080/"
        },
        "id": "QnIXwTEHdNfH",
        "outputId": "5b932f29-93bf-4759-9d22-117041464c18"
      },
      "execution_count": null,
      "outputs": [
        {
          "output_type": "execute_result",
          "data": {
            "text/plain": [
              "OrderedDict([('Precision@20', 0.04088808361456937),\n",
              "             ('Recall@20', 0.23659542066127975),\n",
              "             ('NDCG@20', 0.147157620116962),\n",
              "             ('HitRatio@20', 0.4920428396309598),\n",
              "             ('MAP', 0.09437119410218098)])"
            ]
          },
          "metadata": {},
          "execution_count": 29
        }
      ]
    },
    {
      "cell_type": "markdown",
      "source": [
        "Лучше всего метрики получились при lambda = 0.9, немного лучше, чем до объединения моделей.  \n",
        "Итоговая таблица:"
      ],
      "metadata": {
        "id": "YvvllpvZQ5Qj"
      }
    },
    {
      "cell_type": "code",
      "source": [
        "import pandas as pd\n",
        "\n",
        "# Создаем данные для таблицы\n",
        "data = {\n",
        "    'Model': ['BPR', 'BPR', 'PMF', 'PMF', 'BPR+PMF', 'Cold start'],\n",
        "    'Learning rate': ['0.001', '0.0358', '0.001', '0.0005', '-', '-'],\n",
        "    'Lambda reg': ['0.01', '0.0073', '0.001', '0.001', '-', '-'],\n",
        "    'HitRatio@20': ['0.4657', '0.4805', '0.3954', '0.4255', '0.4920', '-'],\n",
        "    'MAP': ['0.0823', '0.0905', '0.0594', '0.0648', '0.0944', '-'],\n",
        "    'NDCG@20': ['0.1327', '0.1412', '0.0972', '0.1086', '0.1472', '-'],\n",
        "    'Precision@20': ['0.0382', '0.0398', '0.0283', '0.0320', '0.0409', '0.0100'],\n",
        "    'Recall@20': ['0.2206', '0.2301', '0.1734', '0.1932', '0.2366', '0.0760']\n",
        "}\n",
        "\n",
        "# Создаем DataFrame из данных\n",
        "df = pd.DataFrame(data)\n",
        "\n",
        "# Отображаем таблицу\n",
        "display(df)\n"
      ],
      "metadata": {
        "colab": {
          "base_uri": "https://localhost:8080/",
          "height": 237
        },
        "id": "DY93hZ1eB6Tk",
        "outputId": "dfc73471-c6e9-450e-8444-3ba7f6e9f891"
      },
      "execution_count": 3,
      "outputs": [
        {
          "output_type": "display_data",
          "data": {
            "text/plain": [
              "        Model Learning rate Lambda reg HitRatio@20     MAP NDCG@20  \\\n",
              "0         BPR         0.001       0.01      0.4657  0.0823  0.1327   \n",
              "1         BPR        0.0358     0.0073      0.4805  0.0905  0.1412   \n",
              "2         PMF         0.001      0.001      0.3954  0.0594  0.0972   \n",
              "3         PMF        0.0005      0.001      0.4255  0.0648  0.1086   \n",
              "4     BPR+PMF             -          -      0.4920  0.0944  0.1472   \n",
              "5  Cold start             -          -           -       -       -   \n",
              "\n",
              "  Precision@20 Recall@20  \n",
              "0       0.0382    0.2206  \n",
              "1       0.0398    0.2301  \n",
              "2       0.0283    0.1734  \n",
              "3       0.0320    0.1932  \n",
              "4       0.0409    0.2366  \n",
              "5       0.0100    0.0760  "
            ],
            "text/html": [
              "\n",
              "  <div id=\"df-afc845b3-fb91-4e55-8129-b65b134a676d\" class=\"colab-df-container\">\n",
              "    <div>\n",
              "<style scoped>\n",
              "    .dataframe tbody tr th:only-of-type {\n",
              "        vertical-align: middle;\n",
              "    }\n",
              "\n",
              "    .dataframe tbody tr th {\n",
              "        vertical-align: top;\n",
              "    }\n",
              "\n",
              "    .dataframe thead th {\n",
              "        text-align: right;\n",
              "    }\n",
              "</style>\n",
              "<table border=\"1\" class=\"dataframe\">\n",
              "  <thead>\n",
              "    <tr style=\"text-align: right;\">\n",
              "      <th></th>\n",
              "      <th>Model</th>\n",
              "      <th>Learning rate</th>\n",
              "      <th>Lambda reg</th>\n",
              "      <th>HitRatio@20</th>\n",
              "      <th>MAP</th>\n",
              "      <th>NDCG@20</th>\n",
              "      <th>Precision@20</th>\n",
              "      <th>Recall@20</th>\n",
              "    </tr>\n",
              "  </thead>\n",
              "  <tbody>\n",
              "    <tr>\n",
              "      <th>0</th>\n",
              "      <td>BPR</td>\n",
              "      <td>0.001</td>\n",
              "      <td>0.01</td>\n",
              "      <td>0.4657</td>\n",
              "      <td>0.0823</td>\n",
              "      <td>0.1327</td>\n",
              "      <td>0.0382</td>\n",
              "      <td>0.2206</td>\n",
              "    </tr>\n",
              "    <tr>\n",
              "      <th>1</th>\n",
              "      <td>BPR</td>\n",
              "      <td>0.0358</td>\n",
              "      <td>0.0073</td>\n",
              "      <td>0.4805</td>\n",
              "      <td>0.0905</td>\n",
              "      <td>0.1412</td>\n",
              "      <td>0.0398</td>\n",
              "      <td>0.2301</td>\n",
              "    </tr>\n",
              "    <tr>\n",
              "      <th>2</th>\n",
              "      <td>PMF</td>\n",
              "      <td>0.001</td>\n",
              "      <td>0.001</td>\n",
              "      <td>0.3954</td>\n",
              "      <td>0.0594</td>\n",
              "      <td>0.0972</td>\n",
              "      <td>0.0283</td>\n",
              "      <td>0.1734</td>\n",
              "    </tr>\n",
              "    <tr>\n",
              "      <th>3</th>\n",
              "      <td>PMF</td>\n",
              "      <td>0.0005</td>\n",
              "      <td>0.001</td>\n",
              "      <td>0.4255</td>\n",
              "      <td>0.0648</td>\n",
              "      <td>0.1086</td>\n",
              "      <td>0.0320</td>\n",
              "      <td>0.1932</td>\n",
              "    </tr>\n",
              "    <tr>\n",
              "      <th>4</th>\n",
              "      <td>BPR+PMF</td>\n",
              "      <td>-</td>\n",
              "      <td>-</td>\n",
              "      <td>0.4920</td>\n",
              "      <td>0.0944</td>\n",
              "      <td>0.1472</td>\n",
              "      <td>0.0409</td>\n",
              "      <td>0.2366</td>\n",
              "    </tr>\n",
              "    <tr>\n",
              "      <th>5</th>\n",
              "      <td>Cold start</td>\n",
              "      <td>-</td>\n",
              "      <td>-</td>\n",
              "      <td>-</td>\n",
              "      <td>-</td>\n",
              "      <td>-</td>\n",
              "      <td>0.0100</td>\n",
              "      <td>0.0760</td>\n",
              "    </tr>\n",
              "  </tbody>\n",
              "</table>\n",
              "</div>\n",
              "    <div class=\"colab-df-buttons\">\n",
              "\n",
              "  <div class=\"colab-df-container\">\n",
              "    <button class=\"colab-df-convert\" onclick=\"convertToInteractive('df-afc845b3-fb91-4e55-8129-b65b134a676d')\"\n",
              "            title=\"Convert this dataframe to an interactive table.\"\n",
              "            style=\"display:none;\">\n",
              "\n",
              "  <svg xmlns=\"http://www.w3.org/2000/svg\" height=\"24px\" viewBox=\"0 -960 960 960\">\n",
              "    <path d=\"M120-120v-720h720v720H120Zm60-500h600v-160H180v160Zm220 220h160v-160H400v160Zm0 220h160v-160H400v160ZM180-400h160v-160H180v160Zm440 0h160v-160H620v160ZM180-180h160v-160H180v160Zm440 0h160v-160H620v160Z\"/>\n",
              "  </svg>\n",
              "    </button>\n",
              "\n",
              "  <style>\n",
              "    .colab-df-container {\n",
              "      display:flex;\n",
              "      gap: 12px;\n",
              "    }\n",
              "\n",
              "    .colab-df-convert {\n",
              "      background-color: #E8F0FE;\n",
              "      border: none;\n",
              "      border-radius: 50%;\n",
              "      cursor: pointer;\n",
              "      display: none;\n",
              "      fill: #1967D2;\n",
              "      height: 32px;\n",
              "      padding: 0 0 0 0;\n",
              "      width: 32px;\n",
              "    }\n",
              "\n",
              "    .colab-df-convert:hover {\n",
              "      background-color: #E2EBFA;\n",
              "      box-shadow: 0px 1px 2px rgba(60, 64, 67, 0.3), 0px 1px 3px 1px rgba(60, 64, 67, 0.15);\n",
              "      fill: #174EA6;\n",
              "    }\n",
              "\n",
              "    .colab-df-buttons div {\n",
              "      margin-bottom: 4px;\n",
              "    }\n",
              "\n",
              "    [theme=dark] .colab-df-convert {\n",
              "      background-color: #3B4455;\n",
              "      fill: #D2E3FC;\n",
              "    }\n",
              "\n",
              "    [theme=dark] .colab-df-convert:hover {\n",
              "      background-color: #434B5C;\n",
              "      box-shadow: 0px 1px 3px 1px rgba(0, 0, 0, 0.15);\n",
              "      filter: drop-shadow(0px 1px 2px rgba(0, 0, 0, 0.3));\n",
              "      fill: #FFFFFF;\n",
              "    }\n",
              "  </style>\n",
              "\n",
              "    <script>\n",
              "      const buttonEl =\n",
              "        document.querySelector('#df-afc845b3-fb91-4e55-8129-b65b134a676d button.colab-df-convert');\n",
              "      buttonEl.style.display =\n",
              "        google.colab.kernel.accessAllowed ? 'block' : 'none';\n",
              "\n",
              "      async function convertToInteractive(key) {\n",
              "        const element = document.querySelector('#df-afc845b3-fb91-4e55-8129-b65b134a676d');\n",
              "        const dataTable =\n",
              "          await google.colab.kernel.invokeFunction('convertToInteractive',\n",
              "                                                    [key], {});\n",
              "        if (!dataTable) return;\n",
              "\n",
              "        const docLinkHtml = 'Like what you see? Visit the ' +\n",
              "          '<a target=\"_blank\" href=https://colab.research.google.com/notebooks/data_table.ipynb>data table notebook</a>'\n",
              "          + ' to learn more about interactive tables.';\n",
              "        element.innerHTML = '';\n",
              "        dataTable['output_type'] = 'display_data';\n",
              "        await google.colab.output.renderOutput(dataTable, element);\n",
              "        const docLink = document.createElement('div');\n",
              "        docLink.innerHTML = docLinkHtml;\n",
              "        element.appendChild(docLink);\n",
              "      }\n",
              "    </script>\n",
              "  </div>\n",
              "\n",
              "\n",
              "<div id=\"df-19a0c3a2-012b-4c2f-98f0-ba6a87ead59c\">\n",
              "  <button class=\"colab-df-quickchart\" onclick=\"quickchart('df-19a0c3a2-012b-4c2f-98f0-ba6a87ead59c')\"\n",
              "            title=\"Suggest charts\"\n",
              "            style=\"display:none;\">\n",
              "\n",
              "<svg xmlns=\"http://www.w3.org/2000/svg\" height=\"24px\"viewBox=\"0 0 24 24\"\n",
              "     width=\"24px\">\n",
              "    <g>\n",
              "        <path d=\"M19 3H5c-1.1 0-2 .9-2 2v14c0 1.1.9 2 2 2h14c1.1 0 2-.9 2-2V5c0-1.1-.9-2-2-2zM9 17H7v-7h2v7zm4 0h-2V7h2v10zm4 0h-2v-4h2v4z\"/>\n",
              "    </g>\n",
              "</svg>\n",
              "  </button>\n",
              "\n",
              "<style>\n",
              "  .colab-df-quickchart {\n",
              "      --bg-color: #E8F0FE;\n",
              "      --fill-color: #1967D2;\n",
              "      --hover-bg-color: #E2EBFA;\n",
              "      --hover-fill-color: #174EA6;\n",
              "      --disabled-fill-color: #AAA;\n",
              "      --disabled-bg-color: #DDD;\n",
              "  }\n",
              "\n",
              "  [theme=dark] .colab-df-quickchart {\n",
              "      --bg-color: #3B4455;\n",
              "      --fill-color: #D2E3FC;\n",
              "      --hover-bg-color: #434B5C;\n",
              "      --hover-fill-color: #FFFFFF;\n",
              "      --disabled-bg-color: #3B4455;\n",
              "      --disabled-fill-color: #666;\n",
              "  }\n",
              "\n",
              "  .colab-df-quickchart {\n",
              "    background-color: var(--bg-color);\n",
              "    border: none;\n",
              "    border-radius: 50%;\n",
              "    cursor: pointer;\n",
              "    display: none;\n",
              "    fill: var(--fill-color);\n",
              "    height: 32px;\n",
              "    padding: 0;\n",
              "    width: 32px;\n",
              "  }\n",
              "\n",
              "  .colab-df-quickchart:hover {\n",
              "    background-color: var(--hover-bg-color);\n",
              "    box-shadow: 0 1px 2px rgba(60, 64, 67, 0.3), 0 1px 3px 1px rgba(60, 64, 67, 0.15);\n",
              "    fill: var(--button-hover-fill-color);\n",
              "  }\n",
              "\n",
              "  .colab-df-quickchart-complete:disabled,\n",
              "  .colab-df-quickchart-complete:disabled:hover {\n",
              "    background-color: var(--disabled-bg-color);\n",
              "    fill: var(--disabled-fill-color);\n",
              "    box-shadow: none;\n",
              "  }\n",
              "\n",
              "  .colab-df-spinner {\n",
              "    border: 2px solid var(--fill-color);\n",
              "    border-color: transparent;\n",
              "    border-bottom-color: var(--fill-color);\n",
              "    animation:\n",
              "      spin 1s steps(1) infinite;\n",
              "  }\n",
              "\n",
              "  @keyframes spin {\n",
              "    0% {\n",
              "      border-color: transparent;\n",
              "      border-bottom-color: var(--fill-color);\n",
              "      border-left-color: var(--fill-color);\n",
              "    }\n",
              "    20% {\n",
              "      border-color: transparent;\n",
              "      border-left-color: var(--fill-color);\n",
              "      border-top-color: var(--fill-color);\n",
              "    }\n",
              "    30% {\n",
              "      border-color: transparent;\n",
              "      border-left-color: var(--fill-color);\n",
              "      border-top-color: var(--fill-color);\n",
              "      border-right-color: var(--fill-color);\n",
              "    }\n",
              "    40% {\n",
              "      border-color: transparent;\n",
              "      border-right-color: var(--fill-color);\n",
              "      border-top-color: var(--fill-color);\n",
              "    }\n",
              "    60% {\n",
              "      border-color: transparent;\n",
              "      border-right-color: var(--fill-color);\n",
              "    }\n",
              "    80% {\n",
              "      border-color: transparent;\n",
              "      border-right-color: var(--fill-color);\n",
              "      border-bottom-color: var(--fill-color);\n",
              "    }\n",
              "    90% {\n",
              "      border-color: transparent;\n",
              "      border-bottom-color: var(--fill-color);\n",
              "    }\n",
              "  }\n",
              "</style>\n",
              "\n",
              "  <script>\n",
              "    async function quickchart(key) {\n",
              "      const quickchartButtonEl =\n",
              "        document.querySelector('#' + key + ' button');\n",
              "      quickchartButtonEl.disabled = true;  // To prevent multiple clicks.\n",
              "      quickchartButtonEl.classList.add('colab-df-spinner');\n",
              "      try {\n",
              "        const charts = await google.colab.kernel.invokeFunction(\n",
              "            'suggestCharts', [key], {});\n",
              "      } catch (error) {\n",
              "        console.error('Error during call to suggestCharts:', error);\n",
              "      }\n",
              "      quickchartButtonEl.classList.remove('colab-df-spinner');\n",
              "      quickchartButtonEl.classList.add('colab-df-quickchart-complete');\n",
              "    }\n",
              "    (() => {\n",
              "      let quickchartButtonEl =\n",
              "        document.querySelector('#df-19a0c3a2-012b-4c2f-98f0-ba6a87ead59c button');\n",
              "      quickchartButtonEl.style.display =\n",
              "        google.colab.kernel.accessAllowed ? 'block' : 'none';\n",
              "    })();\n",
              "  </script>\n",
              "</div>\n",
              "    </div>\n",
              "  </div>\n"
            ],
            "application/vnd.google.colaboratory.intrinsic+json": {
              "type": "dataframe",
              "variable_name": "df",
              "summary": "{\n  \"name\": \"df\",\n  \"rows\": 6,\n  \"fields\": [\n    {\n      \"column\": \"Model\",\n      \"properties\": {\n        \"dtype\": \"string\",\n        \"num_unique_values\": 4,\n        \"samples\": [\n          \"PMF\",\n          \"Cold start\",\n          \"BPR\"\n        ],\n        \"semantic_type\": \"\",\n        \"description\": \"\"\n      }\n    },\n    {\n      \"column\": \"Learning rate\",\n      \"properties\": {\n        \"dtype\": \"string\",\n        \"num_unique_values\": 4,\n        \"samples\": [\n          \"0.0358\",\n          \"-\",\n          \"0.001\"\n        ],\n        \"semantic_type\": \"\",\n        \"description\": \"\"\n      }\n    },\n    {\n      \"column\": \"Lambda reg\",\n      \"properties\": {\n        \"dtype\": \"string\",\n        \"num_unique_values\": 4,\n        \"samples\": [\n          \"0.0073\",\n          \"-\",\n          \"0.01\"\n        ],\n        \"semantic_type\": \"\",\n        \"description\": \"\"\n      }\n    },\n    {\n      \"column\": \"HitRatio@20\",\n      \"properties\": {\n        \"dtype\": \"string\",\n        \"num_unique_values\": 6,\n        \"samples\": [\n          \"0.4657\",\n          \"0.4805\",\n          \"-\"\n        ],\n        \"semantic_type\": \"\",\n        \"description\": \"\"\n      }\n    },\n    {\n      \"column\": \"MAP\",\n      \"properties\": {\n        \"dtype\": \"string\",\n        \"num_unique_values\": 6,\n        \"samples\": [\n          \"0.0823\",\n          \"0.0905\",\n          \"-\"\n        ],\n        \"semantic_type\": \"\",\n        \"description\": \"\"\n      }\n    },\n    {\n      \"column\": \"NDCG@20\",\n      \"properties\": {\n        \"dtype\": \"string\",\n        \"num_unique_values\": 6,\n        \"samples\": [\n          \"0.1327\",\n          \"0.1412\",\n          \"-\"\n        ],\n        \"semantic_type\": \"\",\n        \"description\": \"\"\n      }\n    },\n    {\n      \"column\": \"Precision@20\",\n      \"properties\": {\n        \"dtype\": \"string\",\n        \"num_unique_values\": 6,\n        \"samples\": [\n          \"0.0382\",\n          \"0.0398\",\n          \"0.0100\"\n        ],\n        \"semantic_type\": \"\",\n        \"description\": \"\"\n      }\n    },\n    {\n      \"column\": \"Recall@20\",\n      \"properties\": {\n        \"dtype\": \"string\",\n        \"num_unique_values\": 6,\n        \"samples\": [\n          \"0.2206\",\n          \"0.2301\",\n          \"0.0760\"\n        ],\n        \"semantic_type\": \"\",\n        \"description\": \"\"\n      }\n    }\n  ]\n}"
            }
          },
          "metadata": {}
        }
      ]
    }
  ],
  "metadata": {
    "colab": {
      "provenance": [],
      "toc_visible": true
    },
    "kernelspec": {
      "display_name": "Python 3",
      "name": "python3"
    },
    "language_info": {
      "name": "python"
    }
  },
  "nbformat": 4,
  "nbformat_minor": 0
}